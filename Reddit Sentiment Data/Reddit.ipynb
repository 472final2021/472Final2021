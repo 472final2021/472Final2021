{
  "nbformat": 4,
  "nbformat_minor": 0,
  "metadata": {
    "colab": {
      "name": "Reddit.ipynb",
      "provenance": [],
      "collapsed_sections": [
        "33tJMZ1pqZQ_",
        "8B9_cWpI2tgC",
        "i-503AkQAErf"
      ]
    },
    "kernelspec": {
      "name": "python3",
      "display_name": "Python 3"
    },
    "language_info": {
      "name": "python"
    },
    "widgets": {
      "application/vnd.jupyter.widget-state+json": {
        "d72e92e1ad294704ac792eaf66240dd0": {
          "model_module": "@jupyter-widgets/controls",
          "model_name": "HBoxModel",
          "state": {
            "_view_name": "HBoxView",
            "_dom_classes": [],
            "_model_name": "HBoxModel",
            "_view_module": "@jupyter-widgets/controls",
            "_model_module_version": "1.5.0",
            "_view_count": null,
            "_view_module_version": "1.5.0",
            "box_style": "",
            "layout": "IPY_MODEL_20be5734a26948deb592abe65d931518",
            "_model_module": "@jupyter-widgets/controls",
            "children": [
              "IPY_MODEL_9fc4923f77e1422989595c90a1bba2a2",
              "IPY_MODEL_180f124225e540329d84c6bce4fa265c"
            ]
          }
        },
        "20be5734a26948deb592abe65d931518": {
          "model_module": "@jupyter-widgets/base",
          "model_name": "LayoutModel",
          "state": {
            "_view_name": "LayoutView",
            "grid_template_rows": null,
            "right": null,
            "justify_content": null,
            "_view_module": "@jupyter-widgets/base",
            "overflow": null,
            "_model_module_version": "1.2.0",
            "_view_count": null,
            "flex_flow": null,
            "width": null,
            "min_width": null,
            "border": null,
            "align_items": null,
            "bottom": null,
            "_model_module": "@jupyter-widgets/base",
            "top": null,
            "grid_column": null,
            "overflow_y": null,
            "overflow_x": null,
            "grid_auto_flow": null,
            "grid_area": null,
            "grid_template_columns": null,
            "flex": null,
            "_model_name": "LayoutModel",
            "justify_items": null,
            "grid_row": null,
            "max_height": null,
            "align_content": null,
            "visibility": null,
            "align_self": null,
            "height": null,
            "min_height": null,
            "padding": null,
            "grid_auto_rows": null,
            "grid_gap": null,
            "max_width": null,
            "order": null,
            "_view_module_version": "1.2.0",
            "grid_template_areas": null,
            "object_position": null,
            "object_fit": null,
            "grid_auto_columns": null,
            "margin": null,
            "display": null,
            "left": null
          }
        },
        "9fc4923f77e1422989595c90a1bba2a2": {
          "model_module": "@jupyter-widgets/controls",
          "model_name": "FloatProgressModel",
          "state": {
            "_view_name": "ProgressView",
            "style": "IPY_MODEL_24e67abfb73d4f4898463cf66117e294",
            "_dom_classes": [],
            "description": "Downloading: 100%",
            "_model_name": "FloatProgressModel",
            "bar_style": "success",
            "max": 231508,
            "_view_module": "@jupyter-widgets/controls",
            "_model_module_version": "1.5.0",
            "value": 231508,
            "_view_count": null,
            "_view_module_version": "1.5.0",
            "orientation": "horizontal",
            "min": 0,
            "description_tooltip": null,
            "_model_module": "@jupyter-widgets/controls",
            "layout": "IPY_MODEL_902d9e4d7c2c4dabbaa7c3306346027a"
          }
        },
        "180f124225e540329d84c6bce4fa265c": {
          "model_module": "@jupyter-widgets/controls",
          "model_name": "HTMLModel",
          "state": {
            "_view_name": "HTMLView",
            "style": "IPY_MODEL_b1f14c7108e74f78965a76f13ad2c2df",
            "_dom_classes": [],
            "description": "",
            "_model_name": "HTMLModel",
            "placeholder": "​",
            "_view_module": "@jupyter-widgets/controls",
            "_model_module_version": "1.5.0",
            "value": " 232k/232k [01:03&lt;00:00, 3.67kB/s]",
            "_view_count": null,
            "_view_module_version": "1.5.0",
            "description_tooltip": null,
            "_model_module": "@jupyter-widgets/controls",
            "layout": "IPY_MODEL_b286707d4aa24f8ea19b488ba9c78237"
          }
        },
        "24e67abfb73d4f4898463cf66117e294": {
          "model_module": "@jupyter-widgets/controls",
          "model_name": "ProgressStyleModel",
          "state": {
            "_view_name": "StyleView",
            "_model_name": "ProgressStyleModel",
            "description_width": "initial",
            "_view_module": "@jupyter-widgets/base",
            "_model_module_version": "1.5.0",
            "_view_count": null,
            "_view_module_version": "1.2.0",
            "bar_color": null,
            "_model_module": "@jupyter-widgets/controls"
          }
        },
        "902d9e4d7c2c4dabbaa7c3306346027a": {
          "model_module": "@jupyter-widgets/base",
          "model_name": "LayoutModel",
          "state": {
            "_view_name": "LayoutView",
            "grid_template_rows": null,
            "right": null,
            "justify_content": null,
            "_view_module": "@jupyter-widgets/base",
            "overflow": null,
            "_model_module_version": "1.2.0",
            "_view_count": null,
            "flex_flow": null,
            "width": null,
            "min_width": null,
            "border": null,
            "align_items": null,
            "bottom": null,
            "_model_module": "@jupyter-widgets/base",
            "top": null,
            "grid_column": null,
            "overflow_y": null,
            "overflow_x": null,
            "grid_auto_flow": null,
            "grid_area": null,
            "grid_template_columns": null,
            "flex": null,
            "_model_name": "LayoutModel",
            "justify_items": null,
            "grid_row": null,
            "max_height": null,
            "align_content": null,
            "visibility": null,
            "align_self": null,
            "height": null,
            "min_height": null,
            "padding": null,
            "grid_auto_rows": null,
            "grid_gap": null,
            "max_width": null,
            "order": null,
            "_view_module_version": "1.2.0",
            "grid_template_areas": null,
            "object_position": null,
            "object_fit": null,
            "grid_auto_columns": null,
            "margin": null,
            "display": null,
            "left": null
          }
        },
        "b1f14c7108e74f78965a76f13ad2c2df": {
          "model_module": "@jupyter-widgets/controls",
          "model_name": "DescriptionStyleModel",
          "state": {
            "_view_name": "StyleView",
            "_model_name": "DescriptionStyleModel",
            "description_width": "",
            "_view_module": "@jupyter-widgets/base",
            "_model_module_version": "1.5.0",
            "_view_count": null,
            "_view_module_version": "1.2.0",
            "_model_module": "@jupyter-widgets/controls"
          }
        },
        "b286707d4aa24f8ea19b488ba9c78237": {
          "model_module": "@jupyter-widgets/base",
          "model_name": "LayoutModel",
          "state": {
            "_view_name": "LayoutView",
            "grid_template_rows": null,
            "right": null,
            "justify_content": null,
            "_view_module": "@jupyter-widgets/base",
            "overflow": null,
            "_model_module_version": "1.2.0",
            "_view_count": null,
            "flex_flow": null,
            "width": null,
            "min_width": null,
            "border": null,
            "align_items": null,
            "bottom": null,
            "_model_module": "@jupyter-widgets/base",
            "top": null,
            "grid_column": null,
            "overflow_y": null,
            "overflow_x": null,
            "grid_auto_flow": null,
            "grid_area": null,
            "grid_template_columns": null,
            "flex": null,
            "_model_name": "LayoutModel",
            "justify_items": null,
            "grid_row": null,
            "max_height": null,
            "align_content": null,
            "visibility": null,
            "align_self": null,
            "height": null,
            "min_height": null,
            "padding": null,
            "grid_auto_rows": null,
            "grid_gap": null,
            "max_width": null,
            "order": null,
            "_view_module_version": "1.2.0",
            "grid_template_areas": null,
            "object_position": null,
            "object_fit": null,
            "grid_auto_columns": null,
            "margin": null,
            "display": null,
            "left": null
          }
        },
        "3ca5c4990cd841a18683ff31cc3e39ae": {
          "model_module": "@jupyter-widgets/controls",
          "model_name": "HBoxModel",
          "state": {
            "_view_name": "HBoxView",
            "_dom_classes": [],
            "_model_name": "HBoxModel",
            "_view_module": "@jupyter-widgets/controls",
            "_model_module_version": "1.5.0",
            "_view_count": null,
            "_view_module_version": "1.5.0",
            "box_style": "",
            "layout": "IPY_MODEL_75cb4756dddf4357836613531be52b9d",
            "_model_module": "@jupyter-widgets/controls",
            "children": [
              "IPY_MODEL_75684bfcbb4040ee9b95ff1d434ada5f",
              "IPY_MODEL_ccf3d9dd9b7d4e4fa3924ebadb5fe8dc"
            ]
          }
        },
        "75cb4756dddf4357836613531be52b9d": {
          "model_module": "@jupyter-widgets/base",
          "model_name": "LayoutModel",
          "state": {
            "_view_name": "LayoutView",
            "grid_template_rows": null,
            "right": null,
            "justify_content": null,
            "_view_module": "@jupyter-widgets/base",
            "overflow": null,
            "_model_module_version": "1.2.0",
            "_view_count": null,
            "flex_flow": null,
            "width": null,
            "min_width": null,
            "border": null,
            "align_items": null,
            "bottom": null,
            "_model_module": "@jupyter-widgets/base",
            "top": null,
            "grid_column": null,
            "overflow_y": null,
            "overflow_x": null,
            "grid_auto_flow": null,
            "grid_area": null,
            "grid_template_columns": null,
            "flex": null,
            "_model_name": "LayoutModel",
            "justify_items": null,
            "grid_row": null,
            "max_height": null,
            "align_content": null,
            "visibility": null,
            "align_self": null,
            "height": null,
            "min_height": null,
            "padding": null,
            "grid_auto_rows": null,
            "grid_gap": null,
            "max_width": null,
            "order": null,
            "_view_module_version": "1.2.0",
            "grid_template_areas": null,
            "object_position": null,
            "object_fit": null,
            "grid_auto_columns": null,
            "margin": null,
            "display": null,
            "left": null
          }
        },
        "75684bfcbb4040ee9b95ff1d434ada5f": {
          "model_module": "@jupyter-widgets/controls",
          "model_name": "FloatProgressModel",
          "state": {
            "_view_name": "ProgressView",
            "style": "IPY_MODEL_a090cebfd59842e7956a84db441803a3",
            "_dom_classes": [],
            "description": "Downloading: 100%",
            "_model_name": "FloatProgressModel",
            "bar_style": "success",
            "max": 466062,
            "_view_module": "@jupyter-widgets/controls",
            "_model_module_version": "1.5.0",
            "value": 466062,
            "_view_count": null,
            "_view_module_version": "1.5.0",
            "orientation": "horizontal",
            "min": 0,
            "description_tooltip": null,
            "_model_module": "@jupyter-widgets/controls",
            "layout": "IPY_MODEL_fe92c5674ad743eab0dbd08d0f7b7875"
          }
        },
        "ccf3d9dd9b7d4e4fa3924ebadb5fe8dc": {
          "model_module": "@jupyter-widgets/controls",
          "model_name": "HTMLModel",
          "state": {
            "_view_name": "HTMLView",
            "style": "IPY_MODEL_350dc791e31f47089e3af72c9de5d58d",
            "_dom_classes": [],
            "description": "",
            "_model_name": "HTMLModel",
            "placeholder": "​",
            "_view_module": "@jupyter-widgets/controls",
            "_model_module_version": "1.5.0",
            "value": " 466k/466k [00:01&lt;00:00, 271kB/s]",
            "_view_count": null,
            "_view_module_version": "1.5.0",
            "description_tooltip": null,
            "_model_module": "@jupyter-widgets/controls",
            "layout": "IPY_MODEL_512693bb2a674800a6bafd7d501cbc02"
          }
        },
        "a090cebfd59842e7956a84db441803a3": {
          "model_module": "@jupyter-widgets/controls",
          "model_name": "ProgressStyleModel",
          "state": {
            "_view_name": "StyleView",
            "_model_name": "ProgressStyleModel",
            "description_width": "initial",
            "_view_module": "@jupyter-widgets/base",
            "_model_module_version": "1.5.0",
            "_view_count": null,
            "_view_module_version": "1.2.0",
            "bar_color": null,
            "_model_module": "@jupyter-widgets/controls"
          }
        },
        "fe92c5674ad743eab0dbd08d0f7b7875": {
          "model_module": "@jupyter-widgets/base",
          "model_name": "LayoutModel",
          "state": {
            "_view_name": "LayoutView",
            "grid_template_rows": null,
            "right": null,
            "justify_content": null,
            "_view_module": "@jupyter-widgets/base",
            "overflow": null,
            "_model_module_version": "1.2.0",
            "_view_count": null,
            "flex_flow": null,
            "width": null,
            "min_width": null,
            "border": null,
            "align_items": null,
            "bottom": null,
            "_model_module": "@jupyter-widgets/base",
            "top": null,
            "grid_column": null,
            "overflow_y": null,
            "overflow_x": null,
            "grid_auto_flow": null,
            "grid_area": null,
            "grid_template_columns": null,
            "flex": null,
            "_model_name": "LayoutModel",
            "justify_items": null,
            "grid_row": null,
            "max_height": null,
            "align_content": null,
            "visibility": null,
            "align_self": null,
            "height": null,
            "min_height": null,
            "padding": null,
            "grid_auto_rows": null,
            "grid_gap": null,
            "max_width": null,
            "order": null,
            "_view_module_version": "1.2.0",
            "grid_template_areas": null,
            "object_position": null,
            "object_fit": null,
            "grid_auto_columns": null,
            "margin": null,
            "display": null,
            "left": null
          }
        },
        "350dc791e31f47089e3af72c9de5d58d": {
          "model_module": "@jupyter-widgets/controls",
          "model_name": "DescriptionStyleModel",
          "state": {
            "_view_name": "StyleView",
            "_model_name": "DescriptionStyleModel",
            "description_width": "",
            "_view_module": "@jupyter-widgets/base",
            "_model_module_version": "1.5.0",
            "_view_count": null,
            "_view_module_version": "1.2.0",
            "_model_module": "@jupyter-widgets/controls"
          }
        },
        "512693bb2a674800a6bafd7d501cbc02": {
          "model_module": "@jupyter-widgets/base",
          "model_name": "LayoutModel",
          "state": {
            "_view_name": "LayoutView",
            "grid_template_rows": null,
            "right": null,
            "justify_content": null,
            "_view_module": "@jupyter-widgets/base",
            "overflow": null,
            "_model_module_version": "1.2.0",
            "_view_count": null,
            "flex_flow": null,
            "width": null,
            "min_width": null,
            "border": null,
            "align_items": null,
            "bottom": null,
            "_model_module": "@jupyter-widgets/base",
            "top": null,
            "grid_column": null,
            "overflow_y": null,
            "overflow_x": null,
            "grid_auto_flow": null,
            "grid_area": null,
            "grid_template_columns": null,
            "flex": null,
            "_model_name": "LayoutModel",
            "justify_items": null,
            "grid_row": null,
            "max_height": null,
            "align_content": null,
            "visibility": null,
            "align_self": null,
            "height": null,
            "min_height": null,
            "padding": null,
            "grid_auto_rows": null,
            "grid_gap": null,
            "max_width": null,
            "order": null,
            "_view_module_version": "1.2.0",
            "grid_template_areas": null,
            "object_position": null,
            "object_fit": null,
            "grid_auto_columns": null,
            "margin": null,
            "display": null,
            "left": null
          }
        },
        "4fa06790e14848c699be96639120ee68": {
          "model_module": "@jupyter-widgets/controls",
          "model_name": "HBoxModel",
          "state": {
            "_view_name": "HBoxView",
            "_dom_classes": [],
            "_model_name": "HBoxModel",
            "_view_module": "@jupyter-widgets/controls",
            "_model_module_version": "1.5.0",
            "_view_count": null,
            "_view_module_version": "1.5.0",
            "box_style": "",
            "layout": "IPY_MODEL_500f6aa8ebd140be8393c380d9455b27",
            "_model_module": "@jupyter-widgets/controls",
            "children": [
              "IPY_MODEL_c7a41098d5194473b25e37c54a770bcd",
              "IPY_MODEL_674f94f232cd41a3a36731030edabc28"
            ]
          }
        },
        "500f6aa8ebd140be8393c380d9455b27": {
          "model_module": "@jupyter-widgets/base",
          "model_name": "LayoutModel",
          "state": {
            "_view_name": "LayoutView",
            "grid_template_rows": null,
            "right": null,
            "justify_content": null,
            "_view_module": "@jupyter-widgets/base",
            "overflow": null,
            "_model_module_version": "1.2.0",
            "_view_count": null,
            "flex_flow": null,
            "width": null,
            "min_width": null,
            "border": null,
            "align_items": null,
            "bottom": null,
            "_model_module": "@jupyter-widgets/base",
            "top": null,
            "grid_column": null,
            "overflow_y": null,
            "overflow_x": null,
            "grid_auto_flow": null,
            "grid_area": null,
            "grid_template_columns": null,
            "flex": null,
            "_model_name": "LayoutModel",
            "justify_items": null,
            "grid_row": null,
            "max_height": null,
            "align_content": null,
            "visibility": null,
            "align_self": null,
            "height": null,
            "min_height": null,
            "padding": null,
            "grid_auto_rows": null,
            "grid_gap": null,
            "max_width": null,
            "order": null,
            "_view_module_version": "1.2.0",
            "grid_template_areas": null,
            "object_position": null,
            "object_fit": null,
            "grid_auto_columns": null,
            "margin": null,
            "display": null,
            "left": null
          }
        },
        "c7a41098d5194473b25e37c54a770bcd": {
          "model_module": "@jupyter-widgets/controls",
          "model_name": "FloatProgressModel",
          "state": {
            "_view_name": "ProgressView",
            "style": "IPY_MODEL_cf9a8f1211f84712bd29e2637aee6d96",
            "_dom_classes": [],
            "description": "Downloading: 100%",
            "_model_name": "FloatProgressModel",
            "bar_style": "success",
            "max": 28,
            "_view_module": "@jupyter-widgets/controls",
            "_model_module_version": "1.5.0",
            "value": 28,
            "_view_count": null,
            "_view_module_version": "1.5.0",
            "orientation": "horizontal",
            "min": 0,
            "description_tooltip": null,
            "_model_module": "@jupyter-widgets/controls",
            "layout": "IPY_MODEL_91fcad79e7b347e3b68c220c4fd422b2"
          }
        },
        "674f94f232cd41a3a36731030edabc28": {
          "model_module": "@jupyter-widgets/controls",
          "model_name": "HTMLModel",
          "state": {
            "_view_name": "HTMLView",
            "style": "IPY_MODEL_af1a0fbacc504acf9b96b893aed3c9aa",
            "_dom_classes": [],
            "description": "",
            "_model_name": "HTMLModel",
            "placeholder": "​",
            "_view_module": "@jupyter-widgets/controls",
            "_model_module_version": "1.5.0",
            "value": " 28.0/28.0 [00:00&lt;00:00, 47.5B/s]",
            "_view_count": null,
            "_view_module_version": "1.5.0",
            "description_tooltip": null,
            "_model_module": "@jupyter-widgets/controls",
            "layout": "IPY_MODEL_d9a57cf0b1a746ff910fcadbb7619eb0"
          }
        },
        "cf9a8f1211f84712bd29e2637aee6d96": {
          "model_module": "@jupyter-widgets/controls",
          "model_name": "ProgressStyleModel",
          "state": {
            "_view_name": "StyleView",
            "_model_name": "ProgressStyleModel",
            "description_width": "initial",
            "_view_module": "@jupyter-widgets/base",
            "_model_module_version": "1.5.0",
            "_view_count": null,
            "_view_module_version": "1.2.0",
            "bar_color": null,
            "_model_module": "@jupyter-widgets/controls"
          }
        },
        "91fcad79e7b347e3b68c220c4fd422b2": {
          "model_module": "@jupyter-widgets/base",
          "model_name": "LayoutModel",
          "state": {
            "_view_name": "LayoutView",
            "grid_template_rows": null,
            "right": null,
            "justify_content": null,
            "_view_module": "@jupyter-widgets/base",
            "overflow": null,
            "_model_module_version": "1.2.0",
            "_view_count": null,
            "flex_flow": null,
            "width": null,
            "min_width": null,
            "border": null,
            "align_items": null,
            "bottom": null,
            "_model_module": "@jupyter-widgets/base",
            "top": null,
            "grid_column": null,
            "overflow_y": null,
            "overflow_x": null,
            "grid_auto_flow": null,
            "grid_area": null,
            "grid_template_columns": null,
            "flex": null,
            "_model_name": "LayoutModel",
            "justify_items": null,
            "grid_row": null,
            "max_height": null,
            "align_content": null,
            "visibility": null,
            "align_self": null,
            "height": null,
            "min_height": null,
            "padding": null,
            "grid_auto_rows": null,
            "grid_gap": null,
            "max_width": null,
            "order": null,
            "_view_module_version": "1.2.0",
            "grid_template_areas": null,
            "object_position": null,
            "object_fit": null,
            "grid_auto_columns": null,
            "margin": null,
            "display": null,
            "left": null
          }
        },
        "af1a0fbacc504acf9b96b893aed3c9aa": {
          "model_module": "@jupyter-widgets/controls",
          "model_name": "DescriptionStyleModel",
          "state": {
            "_view_name": "StyleView",
            "_model_name": "DescriptionStyleModel",
            "description_width": "",
            "_view_module": "@jupyter-widgets/base",
            "_model_module_version": "1.5.0",
            "_view_count": null,
            "_view_module_version": "1.2.0",
            "_model_module": "@jupyter-widgets/controls"
          }
        },
        "d9a57cf0b1a746ff910fcadbb7619eb0": {
          "model_module": "@jupyter-widgets/base",
          "model_name": "LayoutModel",
          "state": {
            "_view_name": "LayoutView",
            "grid_template_rows": null,
            "right": null,
            "justify_content": null,
            "_view_module": "@jupyter-widgets/base",
            "overflow": null,
            "_model_module_version": "1.2.0",
            "_view_count": null,
            "flex_flow": null,
            "width": null,
            "min_width": null,
            "border": null,
            "align_items": null,
            "bottom": null,
            "_model_module": "@jupyter-widgets/base",
            "top": null,
            "grid_column": null,
            "overflow_y": null,
            "overflow_x": null,
            "grid_auto_flow": null,
            "grid_area": null,
            "grid_template_columns": null,
            "flex": null,
            "_model_name": "LayoutModel",
            "justify_items": null,
            "grid_row": null,
            "max_height": null,
            "align_content": null,
            "visibility": null,
            "align_self": null,
            "height": null,
            "min_height": null,
            "padding": null,
            "grid_auto_rows": null,
            "grid_gap": null,
            "max_width": null,
            "order": null,
            "_view_module_version": "1.2.0",
            "grid_template_areas": null,
            "object_position": null,
            "object_fit": null,
            "grid_auto_columns": null,
            "margin": null,
            "display": null,
            "left": null
          }
        },
        "65c4e8cf7e1c47f5ab04989761d152e7": {
          "model_module": "@jupyter-widgets/controls",
          "model_name": "HBoxModel",
          "state": {
            "_view_name": "HBoxView",
            "_dom_classes": [],
            "_model_name": "HBoxModel",
            "_view_module": "@jupyter-widgets/controls",
            "_model_module_version": "1.5.0",
            "_view_count": null,
            "_view_module_version": "1.5.0",
            "box_style": "",
            "layout": "IPY_MODEL_91498296c7da4303af6e985b2b1bfd2b",
            "_model_module": "@jupyter-widgets/controls",
            "children": [
              "IPY_MODEL_115031a5731848dcacf8bd98d00b4e8b",
              "IPY_MODEL_a19028b39003418ead5f355ffd820a4b"
            ]
          }
        },
        "91498296c7da4303af6e985b2b1bfd2b": {
          "model_module": "@jupyter-widgets/base",
          "model_name": "LayoutModel",
          "state": {
            "_view_name": "LayoutView",
            "grid_template_rows": null,
            "right": null,
            "justify_content": null,
            "_view_module": "@jupyter-widgets/base",
            "overflow": null,
            "_model_module_version": "1.2.0",
            "_view_count": null,
            "flex_flow": null,
            "width": null,
            "min_width": null,
            "border": null,
            "align_items": null,
            "bottom": null,
            "_model_module": "@jupyter-widgets/base",
            "top": null,
            "grid_column": null,
            "overflow_y": null,
            "overflow_x": null,
            "grid_auto_flow": null,
            "grid_area": null,
            "grid_template_columns": null,
            "flex": null,
            "_model_name": "LayoutModel",
            "justify_items": null,
            "grid_row": null,
            "max_height": null,
            "align_content": null,
            "visibility": null,
            "align_self": null,
            "height": null,
            "min_height": null,
            "padding": null,
            "grid_auto_rows": null,
            "grid_gap": null,
            "max_width": null,
            "order": null,
            "_view_module_version": "1.2.0",
            "grid_template_areas": null,
            "object_position": null,
            "object_fit": null,
            "grid_auto_columns": null,
            "margin": null,
            "display": null,
            "left": null
          }
        },
        "115031a5731848dcacf8bd98d00b4e8b": {
          "model_module": "@jupyter-widgets/controls",
          "model_name": "FloatProgressModel",
          "state": {
            "_view_name": "ProgressView",
            "style": "IPY_MODEL_fa06b22180684057a7e61b7d2de961ba",
            "_dom_classes": [],
            "description": "Downloading: 100%",
            "_model_name": "FloatProgressModel",
            "bar_style": "success",
            "max": 231508,
            "_view_module": "@jupyter-widgets/controls",
            "_model_module_version": "1.5.0",
            "value": 231508,
            "_view_count": null,
            "_view_module_version": "1.5.0",
            "orientation": "horizontal",
            "min": 0,
            "description_tooltip": null,
            "_model_module": "@jupyter-widgets/controls",
            "layout": "IPY_MODEL_0ca17fa56d7a4b13a5ac90b97917260d"
          }
        },
        "a19028b39003418ead5f355ffd820a4b": {
          "model_module": "@jupyter-widgets/controls",
          "model_name": "HTMLModel",
          "state": {
            "_view_name": "HTMLView",
            "style": "IPY_MODEL_6a46bb4e11a047948d518745934db806",
            "_dom_classes": [],
            "description": "",
            "_model_name": "HTMLModel",
            "placeholder": "​",
            "_view_module": "@jupyter-widgets/controls",
            "_model_module_version": "1.5.0",
            "value": " 232k/232k [20:34&lt;00:00, 188B/s]",
            "_view_count": null,
            "_view_module_version": "1.5.0",
            "description_tooltip": null,
            "_model_module": "@jupyter-widgets/controls",
            "layout": "IPY_MODEL_31036acfcee8435eb447da069e8d5b27"
          }
        },
        "fa06b22180684057a7e61b7d2de961ba": {
          "model_module": "@jupyter-widgets/controls",
          "model_name": "ProgressStyleModel",
          "state": {
            "_view_name": "StyleView",
            "_model_name": "ProgressStyleModel",
            "description_width": "initial",
            "_view_module": "@jupyter-widgets/base",
            "_model_module_version": "1.5.0",
            "_view_count": null,
            "_view_module_version": "1.2.0",
            "bar_color": null,
            "_model_module": "@jupyter-widgets/controls"
          }
        },
        "0ca17fa56d7a4b13a5ac90b97917260d": {
          "model_module": "@jupyter-widgets/base",
          "model_name": "LayoutModel",
          "state": {
            "_view_name": "LayoutView",
            "grid_template_rows": null,
            "right": null,
            "justify_content": null,
            "_view_module": "@jupyter-widgets/base",
            "overflow": null,
            "_model_module_version": "1.2.0",
            "_view_count": null,
            "flex_flow": null,
            "width": null,
            "min_width": null,
            "border": null,
            "align_items": null,
            "bottom": null,
            "_model_module": "@jupyter-widgets/base",
            "top": null,
            "grid_column": null,
            "overflow_y": null,
            "overflow_x": null,
            "grid_auto_flow": null,
            "grid_area": null,
            "grid_template_columns": null,
            "flex": null,
            "_model_name": "LayoutModel",
            "justify_items": null,
            "grid_row": null,
            "max_height": null,
            "align_content": null,
            "visibility": null,
            "align_self": null,
            "height": null,
            "min_height": null,
            "padding": null,
            "grid_auto_rows": null,
            "grid_gap": null,
            "max_width": null,
            "order": null,
            "_view_module_version": "1.2.0",
            "grid_template_areas": null,
            "object_position": null,
            "object_fit": null,
            "grid_auto_columns": null,
            "margin": null,
            "display": null,
            "left": null
          }
        },
        "6a46bb4e11a047948d518745934db806": {
          "model_module": "@jupyter-widgets/controls",
          "model_name": "DescriptionStyleModel",
          "state": {
            "_view_name": "StyleView",
            "_model_name": "DescriptionStyleModel",
            "description_width": "",
            "_view_module": "@jupyter-widgets/base",
            "_model_module_version": "1.5.0",
            "_view_count": null,
            "_view_module_version": "1.2.0",
            "_model_module": "@jupyter-widgets/controls"
          }
        },
        "31036acfcee8435eb447da069e8d5b27": {
          "model_module": "@jupyter-widgets/base",
          "model_name": "LayoutModel",
          "state": {
            "_view_name": "LayoutView",
            "grid_template_rows": null,
            "right": null,
            "justify_content": null,
            "_view_module": "@jupyter-widgets/base",
            "overflow": null,
            "_model_module_version": "1.2.0",
            "_view_count": null,
            "flex_flow": null,
            "width": null,
            "min_width": null,
            "border": null,
            "align_items": null,
            "bottom": null,
            "_model_module": "@jupyter-widgets/base",
            "top": null,
            "grid_column": null,
            "overflow_y": null,
            "overflow_x": null,
            "grid_auto_flow": null,
            "grid_area": null,
            "grid_template_columns": null,
            "flex": null,
            "_model_name": "LayoutModel",
            "justify_items": null,
            "grid_row": null,
            "max_height": null,
            "align_content": null,
            "visibility": null,
            "align_self": null,
            "height": null,
            "min_height": null,
            "padding": null,
            "grid_auto_rows": null,
            "grid_gap": null,
            "max_width": null,
            "order": null,
            "_view_module_version": "1.2.0",
            "grid_template_areas": null,
            "object_position": null,
            "object_fit": null,
            "grid_auto_columns": null,
            "margin": null,
            "display": null,
            "left": null
          }
        },
        "21ac052f17f0470c9ba8770082cae863": {
          "model_module": "@jupyter-widgets/controls",
          "model_name": "HBoxModel",
          "state": {
            "_view_name": "HBoxView",
            "_dom_classes": [],
            "_model_name": "HBoxModel",
            "_view_module": "@jupyter-widgets/controls",
            "_model_module_version": "1.5.0",
            "_view_count": null,
            "_view_module_version": "1.5.0",
            "box_style": "",
            "layout": "IPY_MODEL_6f799708a4b647f3933a42911b811ae0",
            "_model_module": "@jupyter-widgets/controls",
            "children": [
              "IPY_MODEL_19eef5696ce74052926915fde21a21a0",
              "IPY_MODEL_b3b32ef9e1c54780b2df1c387d7ff144"
            ]
          }
        },
        "6f799708a4b647f3933a42911b811ae0": {
          "model_module": "@jupyter-widgets/base",
          "model_name": "LayoutModel",
          "state": {
            "_view_name": "LayoutView",
            "grid_template_rows": null,
            "right": null,
            "justify_content": null,
            "_view_module": "@jupyter-widgets/base",
            "overflow": null,
            "_model_module_version": "1.2.0",
            "_view_count": null,
            "flex_flow": null,
            "width": null,
            "min_width": null,
            "border": null,
            "align_items": null,
            "bottom": null,
            "_model_module": "@jupyter-widgets/base",
            "top": null,
            "grid_column": null,
            "overflow_y": null,
            "overflow_x": null,
            "grid_auto_flow": null,
            "grid_area": null,
            "grid_template_columns": null,
            "flex": null,
            "_model_name": "LayoutModel",
            "justify_items": null,
            "grid_row": null,
            "max_height": null,
            "align_content": null,
            "visibility": null,
            "align_self": null,
            "height": null,
            "min_height": null,
            "padding": null,
            "grid_auto_rows": null,
            "grid_gap": null,
            "max_width": null,
            "order": null,
            "_view_module_version": "1.2.0",
            "grid_template_areas": null,
            "object_position": null,
            "object_fit": null,
            "grid_auto_columns": null,
            "margin": null,
            "display": null,
            "left": null
          }
        },
        "19eef5696ce74052926915fde21a21a0": {
          "model_module": "@jupyter-widgets/controls",
          "model_name": "FloatProgressModel",
          "state": {
            "_view_name": "ProgressView",
            "style": "IPY_MODEL_4186097cf62d42e5bbea4a548f323af7",
            "_dom_classes": [],
            "description": "Downloading: 100%",
            "_model_name": "FloatProgressModel",
            "bar_style": "success",
            "max": 466062,
            "_view_module": "@jupyter-widgets/controls",
            "_model_module_version": "1.5.0",
            "value": 466062,
            "_view_count": null,
            "_view_module_version": "1.5.0",
            "orientation": "horizontal",
            "min": 0,
            "description_tooltip": null,
            "_model_module": "@jupyter-widgets/controls",
            "layout": "IPY_MODEL_cf53c3e8c91744288d0fa615e6d2849b"
          }
        },
        "b3b32ef9e1c54780b2df1c387d7ff144": {
          "model_module": "@jupyter-widgets/controls",
          "model_name": "HTMLModel",
          "state": {
            "_view_name": "HTMLView",
            "style": "IPY_MODEL_d81e5b87a9c8407ba31ce1191411fe0f",
            "_dom_classes": [],
            "description": "",
            "_model_name": "HTMLModel",
            "placeholder": "​",
            "_view_module": "@jupyter-widgets/controls",
            "_model_module_version": "1.5.0",
            "value": " 466k/466k [00:00&lt;00:00, 1.19MB/s]",
            "_view_count": null,
            "_view_module_version": "1.5.0",
            "description_tooltip": null,
            "_model_module": "@jupyter-widgets/controls",
            "layout": "IPY_MODEL_3e1cf0c22a5040baa6fea8028a06ade3"
          }
        },
        "4186097cf62d42e5bbea4a548f323af7": {
          "model_module": "@jupyter-widgets/controls",
          "model_name": "ProgressStyleModel",
          "state": {
            "_view_name": "StyleView",
            "_model_name": "ProgressStyleModel",
            "description_width": "initial",
            "_view_module": "@jupyter-widgets/base",
            "_model_module_version": "1.5.0",
            "_view_count": null,
            "_view_module_version": "1.2.0",
            "bar_color": null,
            "_model_module": "@jupyter-widgets/controls"
          }
        },
        "cf53c3e8c91744288d0fa615e6d2849b": {
          "model_module": "@jupyter-widgets/base",
          "model_name": "LayoutModel",
          "state": {
            "_view_name": "LayoutView",
            "grid_template_rows": null,
            "right": null,
            "justify_content": null,
            "_view_module": "@jupyter-widgets/base",
            "overflow": null,
            "_model_module_version": "1.2.0",
            "_view_count": null,
            "flex_flow": null,
            "width": null,
            "min_width": null,
            "border": null,
            "align_items": null,
            "bottom": null,
            "_model_module": "@jupyter-widgets/base",
            "top": null,
            "grid_column": null,
            "overflow_y": null,
            "overflow_x": null,
            "grid_auto_flow": null,
            "grid_area": null,
            "grid_template_columns": null,
            "flex": null,
            "_model_name": "LayoutModel",
            "justify_items": null,
            "grid_row": null,
            "max_height": null,
            "align_content": null,
            "visibility": null,
            "align_self": null,
            "height": null,
            "min_height": null,
            "padding": null,
            "grid_auto_rows": null,
            "grid_gap": null,
            "max_width": null,
            "order": null,
            "_view_module_version": "1.2.0",
            "grid_template_areas": null,
            "object_position": null,
            "object_fit": null,
            "grid_auto_columns": null,
            "margin": null,
            "display": null,
            "left": null
          }
        },
        "d81e5b87a9c8407ba31ce1191411fe0f": {
          "model_module": "@jupyter-widgets/controls",
          "model_name": "DescriptionStyleModel",
          "state": {
            "_view_name": "StyleView",
            "_model_name": "DescriptionStyleModel",
            "description_width": "",
            "_view_module": "@jupyter-widgets/base",
            "_model_module_version": "1.5.0",
            "_view_count": null,
            "_view_module_version": "1.2.0",
            "_model_module": "@jupyter-widgets/controls"
          }
        },
        "3e1cf0c22a5040baa6fea8028a06ade3": {
          "model_module": "@jupyter-widgets/base",
          "model_name": "LayoutModel",
          "state": {
            "_view_name": "LayoutView",
            "grid_template_rows": null,
            "right": null,
            "justify_content": null,
            "_view_module": "@jupyter-widgets/base",
            "overflow": null,
            "_model_module_version": "1.2.0",
            "_view_count": null,
            "flex_flow": null,
            "width": null,
            "min_width": null,
            "border": null,
            "align_items": null,
            "bottom": null,
            "_model_module": "@jupyter-widgets/base",
            "top": null,
            "grid_column": null,
            "overflow_y": null,
            "overflow_x": null,
            "grid_auto_flow": null,
            "grid_area": null,
            "grid_template_columns": null,
            "flex": null,
            "_model_name": "LayoutModel",
            "justify_items": null,
            "grid_row": null,
            "max_height": null,
            "align_content": null,
            "visibility": null,
            "align_self": null,
            "height": null,
            "min_height": null,
            "padding": null,
            "grid_auto_rows": null,
            "grid_gap": null,
            "max_width": null,
            "order": null,
            "_view_module_version": "1.2.0",
            "grid_template_areas": null,
            "object_position": null,
            "object_fit": null,
            "grid_auto_columns": null,
            "margin": null,
            "display": null,
            "left": null
          }
        },
        "710a6b9074cd412294fd727b7750915c": {
          "model_module": "@jupyter-widgets/controls",
          "model_name": "HBoxModel",
          "state": {
            "_view_name": "HBoxView",
            "_dom_classes": [],
            "_model_name": "HBoxModel",
            "_view_module": "@jupyter-widgets/controls",
            "_model_module_version": "1.5.0",
            "_view_count": null,
            "_view_module_version": "1.5.0",
            "box_style": "",
            "layout": "IPY_MODEL_8d1ce38628cf4fb58219ebe35c73247e",
            "_model_module": "@jupyter-widgets/controls",
            "children": [
              "IPY_MODEL_7611d5e4531949b9b8f64ef0997b5af9",
              "IPY_MODEL_eeb2ff3ee8fb4f008e7731b8ae907b1b"
            ]
          }
        },
        "8d1ce38628cf4fb58219ebe35c73247e": {
          "model_module": "@jupyter-widgets/base",
          "model_name": "LayoutModel",
          "state": {
            "_view_name": "LayoutView",
            "grid_template_rows": null,
            "right": null,
            "justify_content": null,
            "_view_module": "@jupyter-widgets/base",
            "overflow": null,
            "_model_module_version": "1.2.0",
            "_view_count": null,
            "flex_flow": null,
            "width": null,
            "min_width": null,
            "border": null,
            "align_items": null,
            "bottom": null,
            "_model_module": "@jupyter-widgets/base",
            "top": null,
            "grid_column": null,
            "overflow_y": null,
            "overflow_x": null,
            "grid_auto_flow": null,
            "grid_area": null,
            "grid_template_columns": null,
            "flex": null,
            "_model_name": "LayoutModel",
            "justify_items": null,
            "grid_row": null,
            "max_height": null,
            "align_content": null,
            "visibility": null,
            "align_self": null,
            "height": null,
            "min_height": null,
            "padding": null,
            "grid_auto_rows": null,
            "grid_gap": null,
            "max_width": null,
            "order": null,
            "_view_module_version": "1.2.0",
            "grid_template_areas": null,
            "object_position": null,
            "object_fit": null,
            "grid_auto_columns": null,
            "margin": null,
            "display": null,
            "left": null
          }
        },
        "7611d5e4531949b9b8f64ef0997b5af9": {
          "model_module": "@jupyter-widgets/controls",
          "model_name": "FloatProgressModel",
          "state": {
            "_view_name": "ProgressView",
            "style": "IPY_MODEL_f75160cd24844eb4808959817d02258b",
            "_dom_classes": [],
            "description": "Downloading: 100%",
            "_model_name": "FloatProgressModel",
            "bar_style": "success",
            "max": 28,
            "_view_module": "@jupyter-widgets/controls",
            "_model_module_version": "1.5.0",
            "value": 28,
            "_view_count": null,
            "_view_module_version": "1.5.0",
            "orientation": "horizontal",
            "min": 0,
            "description_tooltip": null,
            "_model_module": "@jupyter-widgets/controls",
            "layout": "IPY_MODEL_da36fbacbf704516b1b3deb2ba0cc80f"
          }
        },
        "eeb2ff3ee8fb4f008e7731b8ae907b1b": {
          "model_module": "@jupyter-widgets/controls",
          "model_name": "HTMLModel",
          "state": {
            "_view_name": "HTMLView",
            "style": "IPY_MODEL_d5a1c82855de4b87b70fde313eb43d2b",
            "_dom_classes": [],
            "description": "",
            "_model_name": "HTMLModel",
            "placeholder": "​",
            "_view_module": "@jupyter-widgets/controls",
            "_model_module_version": "1.5.0",
            "value": " 28.0/28.0 [00:00&lt;00:00, 120B/s]",
            "_view_count": null,
            "_view_module_version": "1.5.0",
            "description_tooltip": null,
            "_model_module": "@jupyter-widgets/controls",
            "layout": "IPY_MODEL_fb16e1ebd45b45ddb6fd0db65aa58313"
          }
        },
        "f75160cd24844eb4808959817d02258b": {
          "model_module": "@jupyter-widgets/controls",
          "model_name": "ProgressStyleModel",
          "state": {
            "_view_name": "StyleView",
            "_model_name": "ProgressStyleModel",
            "description_width": "initial",
            "_view_module": "@jupyter-widgets/base",
            "_model_module_version": "1.5.0",
            "_view_count": null,
            "_view_module_version": "1.2.0",
            "bar_color": null,
            "_model_module": "@jupyter-widgets/controls"
          }
        },
        "da36fbacbf704516b1b3deb2ba0cc80f": {
          "model_module": "@jupyter-widgets/base",
          "model_name": "LayoutModel",
          "state": {
            "_view_name": "LayoutView",
            "grid_template_rows": null,
            "right": null,
            "justify_content": null,
            "_view_module": "@jupyter-widgets/base",
            "overflow": null,
            "_model_module_version": "1.2.0",
            "_view_count": null,
            "flex_flow": null,
            "width": null,
            "min_width": null,
            "border": null,
            "align_items": null,
            "bottom": null,
            "_model_module": "@jupyter-widgets/base",
            "top": null,
            "grid_column": null,
            "overflow_y": null,
            "overflow_x": null,
            "grid_auto_flow": null,
            "grid_area": null,
            "grid_template_columns": null,
            "flex": null,
            "_model_name": "LayoutModel",
            "justify_items": null,
            "grid_row": null,
            "max_height": null,
            "align_content": null,
            "visibility": null,
            "align_self": null,
            "height": null,
            "min_height": null,
            "padding": null,
            "grid_auto_rows": null,
            "grid_gap": null,
            "max_width": null,
            "order": null,
            "_view_module_version": "1.2.0",
            "grid_template_areas": null,
            "object_position": null,
            "object_fit": null,
            "grid_auto_columns": null,
            "margin": null,
            "display": null,
            "left": null
          }
        },
        "d5a1c82855de4b87b70fde313eb43d2b": {
          "model_module": "@jupyter-widgets/controls",
          "model_name": "DescriptionStyleModel",
          "state": {
            "_view_name": "StyleView",
            "_model_name": "DescriptionStyleModel",
            "description_width": "",
            "_view_module": "@jupyter-widgets/base",
            "_model_module_version": "1.5.0",
            "_view_count": null,
            "_view_module_version": "1.2.0",
            "_model_module": "@jupyter-widgets/controls"
          }
        },
        "fb16e1ebd45b45ddb6fd0db65aa58313": {
          "model_module": "@jupyter-widgets/base",
          "model_name": "LayoutModel",
          "state": {
            "_view_name": "LayoutView",
            "grid_template_rows": null,
            "right": null,
            "justify_content": null,
            "_view_module": "@jupyter-widgets/base",
            "overflow": null,
            "_model_module_version": "1.2.0",
            "_view_count": null,
            "flex_flow": null,
            "width": null,
            "min_width": null,
            "border": null,
            "align_items": null,
            "bottom": null,
            "_model_module": "@jupyter-widgets/base",
            "top": null,
            "grid_column": null,
            "overflow_y": null,
            "overflow_x": null,
            "grid_auto_flow": null,
            "grid_area": null,
            "grid_template_columns": null,
            "flex": null,
            "_model_name": "LayoutModel",
            "justify_items": null,
            "grid_row": null,
            "max_height": null,
            "align_content": null,
            "visibility": null,
            "align_self": null,
            "height": null,
            "min_height": null,
            "padding": null,
            "grid_auto_rows": null,
            "grid_gap": null,
            "max_width": null,
            "order": null,
            "_view_module_version": "1.2.0",
            "grid_template_areas": null,
            "object_position": null,
            "object_fit": null,
            "grid_auto_columns": null,
            "margin": null,
            "display": null,
            "left": null
          }
        }
      }
    },
    "accelerator": "GPU"
  },
  "cells": [
    {
      "cell_type": "markdown",
      "metadata": {
        "id": "9elcKkAvXKeM"
      },
      "source": [
        "Scraping posts from Reddit threads\n",
        "\n",
        "\n",
        "1. r/WallStreetBets\n",
        "2. r/Stocks\n",
        "3. r/Investing\n",
        "\n",
        "Reference:\n",
        "- (ticker code)\n",
        "https://medium.com/@tom.santinelli/scraping-reddits-wall-street-bets-for-popular-stock-tickers-38ed5202affc\n",
        "- (stock tickers)\n",
        "https://www.nasdaq.com/market-activity/stocks/screener\n",
        "- (Flair NLP)\n",
        "https://github.com/flairNLP/flair\n",
        "- (NLP code)\n",
        "https://towardsdatascience.com/sentiment-analysis-for-stock-price-prediction-in-python-bed40c65d178\n",
        "- https://github.com/dmarx/psaw\n"
      ]
    },
    {
      "cell_type": "markdown",
      "metadata": {
        "id": "57BBvOOrANAr"
      },
      "source": [
        "Dependencies and initialization\n",
        "========="
      ]
    },
    {
      "cell_type": "code",
      "metadata": {
        "colab": {
          "base_uri": "https://localhost:8080/"
        },
        "id": "wHoYOUq0XJOW",
        "outputId": "07d8c874-03c3-481f-9388-097a2d78ba56"
      },
      "source": [
        "!pip install praw\n",
        "!pip install psaw\n",
        "!pip install flair\n",
        "import flair\n",
        "import praw\n",
        "import pandas as pd\n",
        "import re  \n",
        "from collections import Counter\n",
        "import matplotlib.pyplot as plt\n",
        "import numpy as np\n",
        "import datetime as dt\n",
        "from psaw import PushshiftAPI\n"
      ],
      "execution_count": null,
      "outputs": [
        {
          "output_type": "stream",
          "text": [
            "Collecting praw\n",
            "\u001b[?25l  Downloading https://files.pythonhosted.org/packages/48/a8/a2e2d0750ee17c7e3d81e4695a0338ad0b3f231853b8c3fa339ff2d25c7c/praw-7.2.0-py3-none-any.whl (159kB)\n",
            "\r\u001b[K     |██                              | 10kB 18.5MB/s eta 0:00:01\r\u001b[K     |████                            | 20kB 26.1MB/s eta 0:00:01\r\u001b[K     |██████▏                         | 30kB 31.8MB/s eta 0:00:01\r\u001b[K     |████████▏                       | 40kB 33.0MB/s eta 0:00:01\r\u001b[K     |██████████▎                     | 51kB 33.9MB/s eta 0:00:01\r\u001b[K     |████████████▎                   | 61kB 36.1MB/s eta 0:00:01\r\u001b[K     |██████████████▍                 | 71kB 34.7MB/s eta 0:00:01\r\u001b[K     |████████████████▍               | 81kB 35.0MB/s eta 0:00:01\r\u001b[K     |██████████████████▌             | 92kB 35.7MB/s eta 0:00:01\r\u001b[K     |████████████████████▌           | 102kB 36.1MB/s eta 0:00:01\r\u001b[K     |██████████████████████▋         | 112kB 36.1MB/s eta 0:00:01\r\u001b[K     |████████████████████████▋       | 122kB 36.1MB/s eta 0:00:01\r\u001b[K     |██████████████████████████▊     | 133kB 36.1MB/s eta 0:00:01\r\u001b[K     |████████████████████████████▊   | 143kB 36.1MB/s eta 0:00:01\r\u001b[K     |██████████████████████████████▉ | 153kB 36.1MB/s eta 0:00:01\r\u001b[K     |████████████████████████████████| 163kB 36.1MB/s \n",
            "\u001b[?25hCollecting update-checker>=0.18\n",
            "  Downloading https://files.pythonhosted.org/packages/0c/ba/8dd7fa5f0b1c6a8ac62f8f57f7e794160c1f86f31c6d0fb00f582372a3e4/update_checker-0.18.0-py3-none-any.whl\n",
            "Collecting websocket-client>=0.54.0\n",
            "\u001b[?25l  Downloading https://files.pythonhosted.org/packages/f7/0c/d52a2a63512a613817846d430d16a8fbe5ea56dd889e89c68facf6b91cb6/websocket_client-0.59.0-py2.py3-none-any.whl (67kB)\n",
            "\u001b[K     |████████████████████████████████| 71kB 9.4MB/s \n",
            "\u001b[?25hCollecting prawcore<3,>=2\n",
            "  Downloading https://files.pythonhosted.org/packages/7d/df/4a9106bea0d26689c4b309da20c926a01440ddaf60c09a5ae22684ebd35f/prawcore-2.0.0-py3-none-any.whl\n",
            "Requirement already satisfied: requests>=2.3.0 in /usr/local/lib/python3.7/dist-packages (from update-checker>=0.18->praw) (2.23.0)\n",
            "Requirement already satisfied: six in /usr/local/lib/python3.7/dist-packages (from websocket-client>=0.54.0->praw) (1.15.0)\n",
            "Requirement already satisfied: urllib3!=1.25.0,!=1.25.1,<1.26,>=1.21.1 in /usr/local/lib/python3.7/dist-packages (from requests>=2.3.0->update-checker>=0.18->praw) (1.24.3)\n",
            "Requirement already satisfied: certifi>=2017.4.17 in /usr/local/lib/python3.7/dist-packages (from requests>=2.3.0->update-checker>=0.18->praw) (2020.12.5)\n",
            "Requirement already satisfied: chardet<4,>=3.0.2 in /usr/local/lib/python3.7/dist-packages (from requests>=2.3.0->update-checker>=0.18->praw) (3.0.4)\n",
            "Requirement already satisfied: idna<3,>=2.5 in /usr/local/lib/python3.7/dist-packages (from requests>=2.3.0->update-checker>=0.18->praw) (2.10)\n",
            "Installing collected packages: update-checker, websocket-client, prawcore, praw\n",
            "Successfully installed praw-7.2.0 prawcore-2.0.0 update-checker-0.18.0 websocket-client-0.59.0\n",
            "Collecting psaw\n",
            "  Downloading https://files.pythonhosted.org/packages/01/fe/e2f43241ff7545588d07bb93dd353e4333ebc02c31d7e0dc36a8a9d93214/psaw-0.1.0-py3-none-any.whl\n",
            "Requirement already satisfied: Click in /usr/local/lib/python3.7/dist-packages (from psaw) (8.0.0)\n",
            "Requirement already satisfied: requests in /usr/local/lib/python3.7/dist-packages (from psaw) (2.23.0)\n",
            "Requirement already satisfied: idna<3,>=2.5 in /usr/local/lib/python3.7/dist-packages (from requests->psaw) (2.10)\n",
            "Requirement already satisfied: chardet<4,>=3.0.2 in /usr/local/lib/python3.7/dist-packages (from requests->psaw) (3.0.4)\n",
            "Requirement already satisfied: certifi>=2017.4.17 in /usr/local/lib/python3.7/dist-packages (from requests->psaw) (2020.12.5)\n",
            "Requirement already satisfied: urllib3!=1.25.0,!=1.25.1,<1.26,>=1.21.1 in /usr/local/lib/python3.7/dist-packages (from requests->psaw) (1.24.3)\n",
            "Installing collected packages: psaw\n",
            "Successfully installed psaw-0.1.0\n",
            "Collecting flair\n",
            "\u001b[?25l  Downloading https://files.pythonhosted.org/packages/f0/3a/1b46a0220d6176b22bcb9336619d1731301bc2c75fa926a9ef953e6e4d58/flair-0.8.0.post1-py3-none-any.whl (284kB)\n",
            "\u001b[K     |████████████████████████████████| 286kB 29.6MB/s \n",
            "\u001b[?25hRequirement already satisfied: hyperopt>=0.1.1 in /usr/local/lib/python3.7/dist-packages (from flair) (0.1.2)\n",
            "Collecting janome\n",
            "\u001b[?25l  Downloading https://files.pythonhosted.org/packages/a8/63/98858cbead27df7536c7e300c169da0999e9704d02220dc6700b804eeff0/Janome-0.4.1-py2.py3-none-any.whl (19.7MB)\n",
            "\u001b[K     |████████████████████████████████| 19.7MB 1.4MB/s \n",
            "\u001b[?25hRequirement already satisfied: lxml in /usr/local/lib/python3.7/dist-packages (from flair) (4.2.6)\n",
            "Collecting konoha<5.0.0,>=4.0.0\n",
            "  Downloading https://files.pythonhosted.org/packages/02/be/4dd30d56a0a19619deb9bf41ba8202709fa83b1b301b876572cd6dc38117/konoha-4.6.4-py3-none-any.whl\n",
            "Requirement already satisfied: regex in /usr/local/lib/python3.7/dist-packages (from flair) (2019.12.20)\n",
            "Requirement already satisfied: numpy<1.20.0 in /usr/local/lib/python3.7/dist-packages (from flair) (1.19.5)\n",
            "Collecting segtok>=1.5.7\n",
            "  Downloading https://files.pythonhosted.org/packages/41/08/582dab5f4b1d5ca23bc6927b4bb977c8ff7f3a87a3b98844ef833e2f5623/segtok-1.5.10.tar.gz\n",
            "Collecting huggingface-hub\n",
            "  Downloading https://files.pythonhosted.org/packages/a1/88/7b1e45720ecf59c6c6737ff332f41c955963090a18e72acbcbeac6b25e86/huggingface_hub-0.0.8-py3-none-any.whl\n",
            "Collecting gdown==3.12.2\n",
            "  Downloading https://files.pythonhosted.org/packages/50/21/92c3cfe56f5c0647145c4b0083d0733dd4890a057eb100a8eeddf949ffe9/gdown-3.12.2.tar.gz\n",
            "  Installing build dependencies ... \u001b[?25l\u001b[?25hdone\n",
            "  Getting requirements to build wheel ... \u001b[?25l\u001b[?25hdone\n",
            "    Preparing wheel metadata ... \u001b[?25l\u001b[?25hdone\n",
            "Requirement already satisfied: gensim<=3.8.3,>=3.4.0 in /usr/local/lib/python3.7/dist-packages (from flair) (3.6.0)\n",
            "Requirement already satisfied: matplotlib>=2.2.3 in /usr/local/lib/python3.7/dist-packages (from flair) (3.2.2)\n",
            "Collecting sqlitedict>=1.6.0\n",
            "  Downloading https://files.pythonhosted.org/packages/5c/2d/b1d99e9ad157dd7de9cd0d36a8a5876b13b55e4b75f7498bc96035fb4e96/sqlitedict-1.7.0.tar.gz\n",
            "Collecting sentencepiece==0.1.95\n",
            "\u001b[?25l  Downloading https://files.pythonhosted.org/packages/f5/99/e0808cb947ba10f575839c43e8fafc9cc44e4a7a2c8f79c60db48220a577/sentencepiece-0.1.95-cp37-cp37m-manylinux2014_x86_64.whl (1.2MB)\n",
            "\u001b[K     |████████████████████████████████| 1.2MB 44.8MB/s \n",
            "\u001b[?25hCollecting mpld3==0.3\n",
            "\u001b[?25l  Downloading https://files.pythonhosted.org/packages/91/95/a52d3a83d0a29ba0d6898f6727e9858fe7a43f6c2ce81a5fe7e05f0f4912/mpld3-0.3.tar.gz (788kB)\n",
            "\u001b[K     |████████████████████████████████| 798kB 49.2MB/s \n",
            "\u001b[?25hCollecting transformers>=4.0.0\n",
            "\u001b[?25l  Downloading https://files.pythonhosted.org/packages/b0/9e/5b80becd952d5f7250eaf8fc64b957077b12ccfe73e9c03d37146ab29712/transformers-4.6.0-py3-none-any.whl (2.3MB)\n",
            "\u001b[K     |████████████████████████████████| 2.3MB 37.2MB/s \n",
            "\u001b[?25hCollecting torch<=1.7.1,>=1.5.0\n",
            "\u001b[?25l  Downloading https://files.pythonhosted.org/packages/90/5d/095ddddc91c8a769a68c791c019c5793f9c4456a688ddd235d6670924ecb/torch-1.7.1-cp37-cp37m-manylinux1_x86_64.whl (776.8MB)\n",
            "\u001b[K     |████████████████████████████████| 776.8MB 21kB/s \n",
            "\u001b[?25hRequirement already satisfied: scikit-learn>=0.21.3 in /usr/local/lib/python3.7/dist-packages (from flair) (0.22.2.post1)\n",
            "Collecting deprecated>=1.2.4\n",
            "  Downloading https://files.pythonhosted.org/packages/fb/73/994edfcba74443146c84b91921fcc269374354118d4f452fb0c54c1cbb12/Deprecated-1.2.12-py2.py3-none-any.whl\n",
            "Requirement already satisfied: python-dateutil>=2.6.1 in /usr/local/lib/python3.7/dist-packages (from flair) (2.8.1)\n",
            "Requirement already satisfied: tqdm>=4.26.0 in /usr/local/lib/python3.7/dist-packages (from flair) (4.41.1)\n",
            "Collecting ftfy\n",
            "\u001b[?25l  Downloading https://files.pythonhosted.org/packages/ce/b5/5da463f9c7823e0e575e9908d004e2af4b36efa8d02d3d6dad57094fcb11/ftfy-6.0.1.tar.gz (63kB)\n",
            "\u001b[K     |████████████████████████████████| 71kB 11.6MB/s \n",
            "\u001b[?25hRequirement already satisfied: tabulate in /usr/local/lib/python3.7/dist-packages (from flair) (0.8.9)\n",
            "Collecting langdetect\n",
            "\u001b[?25l  Downloading https://files.pythonhosted.org/packages/0e/72/a3add0e4eec4eb9e2569554f7c70f4a3c27712f40e3284d483e88094cc0e/langdetect-1.0.9.tar.gz (981kB)\n",
            "\u001b[K     |████████████████████████████████| 983kB 38.1MB/s \n",
            "\u001b[?25hCollecting bpemb>=0.3.2\n",
            "  Downloading https://files.pythonhosted.org/packages/f2/6f/9191b85109772636a8f8accb122900c34db26c091d2793218aa94954524c/bpemb-0.3.3-py3-none-any.whl\n",
            "Requirement already satisfied: future in /usr/local/lib/python3.7/dist-packages (from hyperopt>=0.1.1->flair) (0.16.0)\n",
            "Requirement already satisfied: scipy in /usr/local/lib/python3.7/dist-packages (from hyperopt>=0.1.1->flair) (1.4.1)\n",
            "Requirement already satisfied: six in /usr/local/lib/python3.7/dist-packages (from hyperopt>=0.1.1->flair) (1.15.0)\n",
            "Requirement already satisfied: pymongo in /usr/local/lib/python3.7/dist-packages (from hyperopt>=0.1.1->flair) (3.11.4)\n",
            "Requirement already satisfied: networkx in /usr/local/lib/python3.7/dist-packages (from hyperopt>=0.1.1->flair) (2.5.1)\n",
            "Collecting overrides<4.0.0,>=3.0.0\n",
            "  Downloading https://files.pythonhosted.org/packages/ff/b1/10f69c00947518e6676bbd43e739733048de64b8dd998e9c2d5a71f44c5d/overrides-3.1.0.tar.gz\n",
            "Collecting requests<3.0.0,>=2.25.1\n",
            "\u001b[?25l  Downloading https://files.pythonhosted.org/packages/29/c1/24814557f1d22c56d50280771a17307e6bf87b70727d975fd6b2ce6b014a/requests-2.25.1-py2.py3-none-any.whl (61kB)\n",
            "\u001b[K     |████████████████████████████████| 61kB 9.5MB/s \n",
            "\u001b[?25hCollecting importlib-metadata<4.0.0,>=3.7.0\n",
            "  Downloading https://files.pythonhosted.org/packages/52/d0/bdb31463f2d9ca111e39b268518e9baa3542ef73ca449b711a7b4da69764/importlib_metadata-3.10.1-py3-none-any.whl\n",
            "Requirement already satisfied: filelock in /usr/local/lib/python3.7/dist-packages (from huggingface-hub->flair) (3.0.12)\n",
            "Requirement already satisfied: smart-open>=1.2.1 in /usr/local/lib/python3.7/dist-packages (from gensim<=3.8.3,>=3.4.0->flair) (5.0.0)\n",
            "Requirement already satisfied: cycler>=0.10 in /usr/local/lib/python3.7/dist-packages (from matplotlib>=2.2.3->flair) (0.10.0)\n",
            "Requirement already satisfied: kiwisolver>=1.0.1 in /usr/local/lib/python3.7/dist-packages (from matplotlib>=2.2.3->flair) (1.3.1)\n",
            "Requirement already satisfied: pyparsing!=2.0.4,!=2.1.2,!=2.1.6,>=2.0.1 in /usr/local/lib/python3.7/dist-packages (from matplotlib>=2.2.3->flair) (2.4.7)\n",
            "Collecting sacremoses\n",
            "\u001b[?25l  Downloading https://files.pythonhosted.org/packages/75/ee/67241dc87f266093c533a2d4d3d69438e57d7a90abb216fa076e7d475d4a/sacremoses-0.0.45-py3-none-any.whl (895kB)\n",
            "\u001b[K     |████████████████████████████████| 901kB 43.4MB/s \n",
            "\u001b[?25hCollecting tokenizers<0.11,>=0.10.1\n",
            "\u001b[?25l  Downloading https://files.pythonhosted.org/packages/ae/04/5b870f26a858552025a62f1649c20d29d2672c02ff3c3fb4c688ca46467a/tokenizers-0.10.2-cp37-cp37m-manylinux2010_x86_64.whl (3.3MB)\n",
            "\u001b[K     |████████████████████████████████| 3.3MB 42.8MB/s \n",
            "\u001b[?25hRequirement already satisfied: packaging in /usr/local/lib/python3.7/dist-packages (from transformers>=4.0.0->flair) (20.9)\n",
            "Requirement already satisfied: typing-extensions in /usr/local/lib/python3.7/dist-packages (from torch<=1.7.1,>=1.5.0->flair) (3.7.4.3)\n",
            "Requirement already satisfied: joblib>=0.11 in /usr/local/lib/python3.7/dist-packages (from scikit-learn>=0.21.3->flair) (1.0.1)\n",
            "Requirement already satisfied: wrapt<2,>=1.10 in /usr/local/lib/python3.7/dist-packages (from deprecated>=1.2.4->flair) (1.12.1)\n",
            "Requirement already satisfied: wcwidth in /usr/local/lib/python3.7/dist-packages (from ftfy->flair) (0.2.5)\n",
            "Requirement already satisfied: decorator<5,>=4.3 in /usr/local/lib/python3.7/dist-packages (from networkx->hyperopt>=0.1.1->flair) (4.4.2)\n",
            "Requirement already satisfied: certifi>=2017.4.17 in /usr/local/lib/python3.7/dist-packages (from requests<3.0.0,>=2.25.1->konoha<5.0.0,>=4.0.0->flair) (2020.12.5)\n",
            "Requirement already satisfied: chardet<5,>=3.0.2 in /usr/local/lib/python3.7/dist-packages (from requests<3.0.0,>=2.25.1->konoha<5.0.0,>=4.0.0->flair) (3.0.4)\n",
            "Requirement already satisfied: urllib3<1.27,>=1.21.1 in /usr/local/lib/python3.7/dist-packages (from requests<3.0.0,>=2.25.1->konoha<5.0.0,>=4.0.0->flair) (1.24.3)\n",
            "Requirement already satisfied: idna<3,>=2.5 in /usr/local/lib/python3.7/dist-packages (from requests<3.0.0,>=2.25.1->konoha<5.0.0,>=4.0.0->flair) (2.10)\n",
            "Requirement already satisfied: zipp>=0.5 in /usr/local/lib/python3.7/dist-packages (from importlib-metadata<4.0.0,>=3.7.0->konoha<5.0.0,>=4.0.0->flair) (3.4.1)\n",
            "Requirement already satisfied: click in /usr/local/lib/python3.7/dist-packages (from sacremoses->transformers>=4.0.0->flair) (8.0.0)\n",
            "Building wheels for collected packages: gdown\n",
            "  Building wheel for gdown (PEP 517) ... \u001b[?25l\u001b[?25hdone\n",
            "  Created wheel for gdown: filename=gdown-3.12.2-cp37-none-any.whl size=9693 sha256=7a007183d1cee71ed7214b73bc4a17cb0a32f8a2ea1e786dd7120a4f5273d8fc\n",
            "  Stored in directory: /root/.cache/pip/wheels/81/d0/d7/d9983facc6f2775411803e0e2d30ebf98efbf2fc6e57701e09\n",
            "Successfully built gdown\n",
            "Building wheels for collected packages: segtok, sqlitedict, mpld3, ftfy, langdetect, overrides\n",
            "  Building wheel for segtok (setup.py) ... \u001b[?25l\u001b[?25hdone\n",
            "  Created wheel for segtok: filename=segtok-1.5.10-cp37-none-any.whl size=25019 sha256=a4870c698dff126a112a8bf8dd9613d7c7b87e1e91c5dac13585b508c4af3071\n",
            "  Stored in directory: /root/.cache/pip/wheels/b4/39/f6/9ca1c5cabde964d728023b5751c3a206a5c8cc40252321fb6b\n",
            "  Building wheel for sqlitedict (setup.py) ... \u001b[?25l\u001b[?25hdone\n",
            "  Created wheel for sqlitedict: filename=sqlitedict-1.7.0-cp37-none-any.whl size=14376 sha256=3739d906251c4a4e6590a8a845cbb8b0b7857cc8379b657e4b4cbcf8a67a2142\n",
            "  Stored in directory: /root/.cache/pip/wheels/cf/c6/4f/2c64a43f041415eb8b8740bd80e15e92f0d46c5e464d8e4b9b\n",
            "  Building wheel for mpld3 (setup.py) ... \u001b[?25l\u001b[?25hdone\n",
            "  Created wheel for mpld3: filename=mpld3-0.3-cp37-none-any.whl size=116679 sha256=41015979df04393ce1275008fa9013f73e3526aa08c8d7e4e70c546388467253\n",
            "  Stored in directory: /root/.cache/pip/wheels/c0/47/fb/8a64f89aecfe0059830479308ad42d62e898a3e3cefdf6ba28\n",
            "  Building wheel for ftfy (setup.py) ... \u001b[?25l\u001b[?25hdone\n",
            "  Created wheel for ftfy: filename=ftfy-6.0.1-cp37-none-any.whl size=41573 sha256=bdce261a28c43fb662b30907630176173af67b4f81ab135d51e484ddb3435e5e\n",
            "  Stored in directory: /root/.cache/pip/wheels/ae/73/c7/9056e14b04919e5c262fe80b54133b1a88d73683d05d7ac65c\n",
            "  Building wheel for langdetect (setup.py) ... \u001b[?25l\u001b[?25hdone\n",
            "  Created wheel for langdetect: filename=langdetect-1.0.9-cp37-none-any.whl size=993223 sha256=856e6e35c822c44b4d67a0828d5e41749557a9cca937dc2e8a7daa00cccbcb54\n",
            "  Stored in directory: /root/.cache/pip/wheels/7e/18/13/038c34057808931c7ddc6c92d3aa015cf1a498df5a70268996\n",
            "  Building wheel for overrides (setup.py) ... \u001b[?25l\u001b[?25hdone\n",
            "  Created wheel for overrides: filename=overrides-3.1.0-cp37-none-any.whl size=10174 sha256=23f4a264afbfc2195590e67f85d9ed88978ac1a05c7c3157efad9989dffa4de2\n",
            "  Stored in directory: /root/.cache/pip/wheels/5c/24/13/6ef8600e6f147c95e595f1289a86a3cc82ed65df57582c65a9\n",
            "Successfully built segtok sqlitedict mpld3 ftfy langdetect overrides\n",
            "\u001b[31mERROR: torchvision 0.9.1+cu101 has requirement torch==1.8.1, but you'll have torch 1.7.1 which is incompatible.\u001b[0m\n",
            "\u001b[31mERROR: torchtext 0.9.1 has requirement torch==1.8.1, but you'll have torch 1.7.1 which is incompatible.\u001b[0m\n",
            "\u001b[31mERROR: google-colab 1.0.0 has requirement requests~=2.23.0, but you'll have requests 2.25.1 which is incompatible.\u001b[0m\n",
            "\u001b[31mERROR: datascience 0.10.6 has requirement folium==0.2.1, but you'll have folium 0.8.3 which is incompatible.\u001b[0m\n",
            "Installing collected packages: janome, overrides, requests, importlib-metadata, konoha, segtok, huggingface-hub, gdown, sqlitedict, sentencepiece, mpld3, sacremoses, tokenizers, transformers, torch, deprecated, ftfy, langdetect, bpemb, flair\n",
            "  Found existing installation: requests 2.23.0\n",
            "    Uninstalling requests-2.23.0:\n",
            "      Successfully uninstalled requests-2.23.0\n",
            "  Found existing installation: importlib-metadata 4.0.1\n",
            "    Uninstalling importlib-metadata-4.0.1:\n",
            "      Successfully uninstalled importlib-metadata-4.0.1\n",
            "  Found existing installation: gdown 3.6.4\n",
            "    Uninstalling gdown-3.6.4:\n",
            "      Successfully uninstalled gdown-3.6.4\n",
            "  Found existing installation: torch 1.8.1+cu101\n",
            "    Uninstalling torch-1.8.1+cu101:\n",
            "      Successfully uninstalled torch-1.8.1+cu101\n",
            "Successfully installed bpemb-0.3.3 deprecated-1.2.12 flair-0.8.0.post1 ftfy-6.0.1 gdown-3.12.2 huggingface-hub-0.0.8 importlib-metadata-3.10.1 janome-0.4.1 konoha-4.6.4 langdetect-1.0.9 mpld3-0.3 overrides-3.1.0 requests-2.25.1 sacremoses-0.0.45 segtok-1.5.10 sentencepiece-0.1.95 sqlitedict-1.7.0 tokenizers-0.10.2 torch-1.7.1 transformers-4.6.0\n"
          ],
          "name": "stdout"
        }
      ]
    },
    {
      "cell_type": "markdown",
      "metadata": {
        "id": "dqfv-8R2pptx"
      },
      "source": [
        "Declare a reddit instance (used a dummy account)"
      ]
    },
    {
      "cell_type": "code",
      "metadata": {
        "id": "ldxn7oHBXtQi"
      },
      "source": [
        "reddit = praw.Reddit(client_id='6pKo4YmL2zkS0Q', \\\n",
        "                     client_secret='kCZTMPNF7Do43YNPbWlWihtbQFG0cg', \\\n",
        "                     user_agent='scraper', \\\n",
        "                     )"
      ],
      "execution_count": null,
      "outputs": []
    },
    {
      "cell_type": "markdown",
      "metadata": {
        "id": "MQCO5-nTp81r"
      },
      "source": [
        "Declare subredit instances: wallstreetbets, stocks, investing"
      ]
    },
    {
      "cell_type": "code",
      "metadata": {
        "id": "In9gm7DLp8Wh"
      },
      "source": [
        "wsb_subr = reddit.subreddit('wallstreetbets')\n",
        "stocks_subr = reddit.subreddit('stocks')\n",
        "invest_subr = reddit.subreddit('investing')"
      ],
      "execution_count": null,
      "outputs": []
    },
    {
      "cell_type": "markdown",
      "metadata": {
        "id": "33tJMZ1pqZQ_"
      },
      "source": [
        "Generating the most commonly mentioned stock tickers\n",
        "========"
      ]
    },
    {
      "cell_type": "markdown",
      "metadata": {
        "id": "hMlv9TMOA11H"
      },
      "source": [
        "1. Grabbing the title and content of each post and appending to a dataframe"
      ]
    },
    {
      "cell_type": "code",
      "metadata": {
        "colab": {
          "base_uri": "https://localhost:8080/"
        },
        "id": "gMNxWnneq_u7",
        "outputId": "cdf6333a-c3c9-4e2e-d322-03a6e4de9f93"
      },
      "source": [
        "df = []\n",
        "\n",
        "for post in wsb_subr.hot(limit = 500):\n",
        "    content = {\n",
        "        \"title\": post.title,\n",
        "        \"text\": post.selftext\n",
        "    }\n",
        "    df.append(content)\n",
        "\n",
        "for post in stocks_subr.hot(limit = 500):\n",
        "    content = {\n",
        "        \"title\": post.title,\n",
        "        \"text\": post.selftext\n",
        "    }\n",
        "    df.append(content)\n",
        "\n",
        "for post in invest_subr.hot(limit = 500):\n",
        "    content = {\n",
        "        \"title\": post.title,\n",
        "        \"text\": post.selftext\n",
        "    }\n",
        "    df.append(content)\n",
        "\n",
        "df = pd.DataFrame(df)"
      ],
      "execution_count": null,
      "outputs": [
        {
          "output_type": "stream",
          "text": [
            "It appears that you are using PRAW in an asynchronous environment.\n",
            "It is strongly recommended to use Async PRAW: https://asyncpraw.readthedocs.io.\n",
            "See https://praw.readthedocs.io/en/latest/getting_started/multiple_instances.html#discord-bots-and-asynchronous-environments for more info.\n",
            "\n",
            "It appears that you are using PRAW in an asynchronous environment.\n",
            "It is strongly recommended to use Async PRAW: https://asyncpraw.readthedocs.io.\n",
            "See https://praw.readthedocs.io/en/latest/getting_started/multiple_instances.html#discord-bots-and-asynchronous-environments for more info.\n",
            "\n",
            "It appears that you are using PRAW in an asynchronous environment.\n",
            "It is strongly recommended to use Async PRAW: https://asyncpraw.readthedocs.io.\n",
            "See https://praw.readthedocs.io/en/latest/getting_started/multiple_instances.html#discord-bots-and-asynchronous-environments for more info.\n",
            "\n",
            "It appears that you are using PRAW in an asynchronous environment.\n",
            "It is strongly recommended to use Async PRAW: https://asyncpraw.readthedocs.io.\n",
            "See https://praw.readthedocs.io/en/latest/getting_started/multiple_instances.html#discord-bots-and-asynchronous-environments for more info.\n",
            "\n",
            "It appears that you are using PRAW in an asynchronous environment.\n",
            "It is strongly recommended to use Async PRAW: https://asyncpraw.readthedocs.io.\n",
            "See https://praw.readthedocs.io/en/latest/getting_started/multiple_instances.html#discord-bots-and-asynchronous-environments for more info.\n",
            "\n",
            "It appears that you are using PRAW in an asynchronous environment.\n",
            "It is strongly recommended to use Async PRAW: https://asyncpraw.readthedocs.io.\n",
            "See https://praw.readthedocs.io/en/latest/getting_started/multiple_instances.html#discord-bots-and-asynchronous-environments for more info.\n",
            "\n",
            "It appears that you are using PRAW in an asynchronous environment.\n",
            "It is strongly recommended to use Async PRAW: https://asyncpraw.readthedocs.io.\n",
            "See https://praw.readthedocs.io/en/latest/getting_started/multiple_instances.html#discord-bots-and-asynchronous-environments for more info.\n",
            "\n",
            "It appears that you are using PRAW in an asynchronous environment.\n",
            "It is strongly recommended to use Async PRAW: https://asyncpraw.readthedocs.io.\n",
            "See https://praw.readthedocs.io/en/latest/getting_started/multiple_instances.html#discord-bots-and-asynchronous-environments for more info.\n",
            "\n",
            "It appears that you are using PRAW in an asynchronous environment.\n",
            "It is strongly recommended to use Async PRAW: https://asyncpraw.readthedocs.io.\n",
            "See https://praw.readthedocs.io/en/latest/getting_started/multiple_instances.html#discord-bots-and-asynchronous-environments for more info.\n",
            "\n",
            "It appears that you are using PRAW in an asynchronous environment.\n",
            "It is strongly recommended to use Async PRAW: https://asyncpraw.readthedocs.io.\n",
            "See https://praw.readthedocs.io/en/latest/getting_started/multiple_instances.html#discord-bots-and-asynchronous-environments for more info.\n",
            "\n"
          ],
          "name": "stderr"
        }
      ]
    },
    {
      "cell_type": "markdown",
      "metadata": {
        "id": "Cm0qYSFjreb7"
      },
      "source": [
        "2. Regular expression for filtering "
      ]
    },
    {
      "cell_type": "code",
      "metadata": {
        "id": "2b0ZBwsdrdjN"
      },
      "source": [
        "regex = re.compile('[^a-zA-Z ]')"
      ],
      "execution_count": null,
      "outputs": []
    },
    {
      "cell_type": "markdown",
      "metadata": {
        "id": "_Dzt7zHhrviI"
      },
      "source": [
        "3. Analyze word frequency"
      ]
    },
    {
      "cell_type": "code",
      "metadata": {
        "id": "CHn0-njcryL8"
      },
      "source": [
        "word_dict = {}\n",
        "\n",
        "for (index, row) in df.iterrows():\n",
        "    \n",
        "    # title\n",
        "    title = row['title']\n",
        "    title = regex.sub('',title)\n",
        "    title_words = title.split(' ')\n",
        "\n",
        "    # content \n",
        "    content = row['text']\n",
        "    content = regex.sub('',content)\n",
        "    content_words = content.split(' ')\n",
        "\n",
        "    # combine\n",
        "    words = title_words + content_words\n",
        "    for x in words:\n",
        "        if x in ['A', 'B', 'GO', 'ARE', 'ON']:\n",
        "            pass\n",
        "        elif x in word_dict:\n",
        "            word_dict[x] += 1\n",
        "        else:\n",
        "            word_dict[x] = 1\n",
        "\n",
        "\n",
        "word_df = pd.DataFrame.from_dict(list(word_dict.items())).rename(columns = {0:\"Term\",1:\"Frequency\"})"
      ],
      "execution_count": null,
      "outputs": []
    },
    {
      "cell_type": "markdown",
      "metadata": {
        "id": "SgrdRoT9sxnO"
      },
      "source": [
        "4. Read the csv of stock tickes into a dataframe"
      ]
    },
    {
      "cell_type": "code",
      "metadata": {
        "id": "Xj_7A7cPsxRp"
      },
      "source": [
        "ticker_df = pd.read_csv('/content/drive/MyDrive/Colab Notebooks/CMSC472_2021_Final_Project/tickers.csv').rename(columns = {'Symbol':'Term', 'Name':'Company_Name'})"
      ],
      "execution_count": null,
      "outputs": []
    },
    {
      "cell_type": "markdown",
      "metadata": {
        "id": "rL7L4x2CwJQB"
      },
      "source": [
        "5. Inner join of the two datasets, and then sort by the frequency they are mentioned from. "
      ]
    },
    {
      "cell_type": "code",
      "metadata": {
        "id": "SMxqd6CgvmLR"
      },
      "source": [
        "stonks_df = pd.merge(ticker_df, word_df, on=\"Term\")\n",
        "stonks_df = stonks_df.sort_values(by = \"Frequency\",ascending=False)"
      ],
      "execution_count": null,
      "outputs": []
    },
    {
      "cell_type": "code",
      "metadata": {
        "id": "44oEUV1CGH9B",
        "colab": {
          "base_uri": "https://localhost:8080/"
        },
        "outputId": "7cb0dd27-6fbc-47e7-c2f3-5b125e4c013f"
      },
      "source": [
        "idx = 0;\n",
        "chosen_comp = [];\n",
        "for t in stonks_df['Term']:\n",
        "    chosen_comp.append(t)\n",
        "\n",
        "chosen_comp = chosen_comp[0:3]\n",
        "chosen_comp\n",
        "\n"
      ],
      "execution_count": null,
      "outputs": [
        {
          "output_type": "execute_result",
          "data": {
            "text/plain": [
              "['M', 'DD', 'K']"
            ]
          },
          "metadata": {
            "tags": []
          },
          "execution_count": 31
        }
      ]
    },
    {
      "cell_type": "markdown",
      "metadata": {
        "id": "CO7x7elAxloD"
      },
      "source": [
        "Now stonks_df is a list of stock tickers and their frequency in 500 hot wall street bets, stocks, and investing posts. "
      ]
    },
    {
      "cell_type": "markdown",
      "metadata": {
        "id": "8B9_cWpI2tgC"
      },
      "source": [
        "Retrieving the posts that mentioned the top 10 stock tickers\n",
        "==========\n"
      ]
    },
    {
      "cell_type": "markdown",
      "metadata": {
        "id": "JcUNTWeR_f35"
      },
      "source": [
        "1. Adding a column \"Content\" into the stonks_df dataframe "
      ]
    },
    {
      "cell_type": "code",
      "metadata": {
        "id": "-zcG68vc4TEa"
      },
      "source": [
        "if stonks_df.__contains__(\"Content\") == False:\n",
        "    stonks_df.insert(len(stonks_df.columns), \"Content\", \" \")"
      ],
      "execution_count": null,
      "outputs": []
    },
    {
      "cell_type": "markdown",
      "metadata": {
        "id": "h_dXf6bA8bgv"
      },
      "source": [
        "2. For the top 10 mentioned stocks, retrieve all the comments and titles that mentioned it and store in the corresponding \"Content\" section"
      ]
    },
    {
      "cell_type": "code",
      "metadata": {
        "id": "yrwSJw1CFpCQ"
      },
      "source": [
        "regex = re.compile('[^a-zA-Z. ]')\n",
        "whitespace = re.compile(r\"\\s+\")\n",
        "web_address = re.compile(r\"(?i)http(s):\\/\\/[a-z0-9.~_\\-\\/]+\")"
      ],
      "execution_count": null,
      "outputs": []
    },
    {
      "cell_type": "code",
      "metadata": {
        "id": "pHS008pv_1Lf"
      },
      "source": [
        "for i in range(10):\n",
        "    t = stonks_df['Term'][i]\n",
        "\n",
        "\n",
        "    for (index, row) in df.iterrows():\n",
        "        \n",
        "        # title\n",
        "        title = row['title']\n",
        "        title = regex.sub(' ',title)\n",
        "        title = whitespace.sub(' ', title)\n",
        "        title_sentence = title.split('.')\n",
        "        title_words = title.split(' ')\n",
        "\n",
        "        # content \n",
        "        content = row['text']\n",
        "        content = web_address.sub(' ', content)\n",
        "        content = regex.sub(' ',content)\n",
        "        content = whitespace.sub(' ', content)\n",
        "        content_sentence = content.split('.')\n",
        "        content_words = content.split(' ')\n",
        "\n",
        "        # combine\n",
        "        sentence = title_sentence + content_sentence\n",
        "        \n",
        "        words = title_words + content_words\n",
        "        for x in words:\n",
        "            if x == t and sentence != \" \" and sentence != \"\":\n",
        "                stonks_df.at[i,'Content'] = sentence\n",
        "                break"
      ],
      "execution_count": null,
      "outputs": []
    },
    {
      "cell_type": "markdown",
      "metadata": {
        "id": "fo91af_T_7_F"
      },
      "source": [
        "Now, we are ready to run NLP with each of the contents associated with top mentioned stocks"
      ]
    },
    {
      "cell_type": "markdown",
      "metadata": {
        "id": "i-503AkQAErf"
      },
      "source": [
        "NLP with the comments\n",
        "=========="
      ]
    },
    {
      "cell_type": "markdown",
      "metadata": {
        "id": "MGyyGf6HSv18"
      },
      "source": [
        "1. Install Flair for NLP"
      ]
    },
    {
      "cell_type": "code",
      "metadata": {
        "colab": {
          "base_uri": "https://localhost:8080/"
        },
        "id": "U10nk1MFDDWJ",
        "outputId": "c54fde19-1e5e-493d-87b2-12c9e45c5416"
      },
      "source": [
        "!pip install flair"
      ],
      "execution_count": null,
      "outputs": [
        {
          "output_type": "stream",
          "text": [
            "Collecting flair\n",
            "\u001b[?25l  Downloading https://files.pythonhosted.org/packages/f0/3a/1b46a0220d6176b22bcb9336619d1731301bc2c75fa926a9ef953e6e4d58/flair-0.8.0.post1-py3-none-any.whl (284kB)\n",
            "\r\u001b[K     |█▏                              | 10kB 3.6MB/s eta 0:00:01\r\u001b[K     |██▎                             | 20kB 4.6MB/s eta 0:00:01\r\u001b[K     |███▌                            | 30kB 5.2MB/s eta 0:00:01\r\u001b[K     |████▋                           | 40kB 4.1MB/s eta 0:00:01\r\u001b[K     |█████▊                          | 51kB 5.0MB/s eta 0:00:01\r\u001b[K     |███████                         | 61kB 5.7MB/s eta 0:00:01\r\u001b[K     |████████                        | 71kB 5.6MB/s eta 0:00:01\r\u001b[K     |█████████▏                      | 81kB 6.2MB/s eta 0:00:01\r\u001b[K     |██████████▍                     | 92kB 6.4MB/s eta 0:00:01\r\u001b[K     |███████████▌                    | 102kB 6.9MB/s eta 0:00:01\r\u001b[K     |████████████▋                   | 112kB 6.9MB/s eta 0:00:01\r\u001b[K     |█████████████▉                  | 122kB 6.9MB/s eta 0:00:01\r\u001b[K     |███████████████                 | 133kB 6.9MB/s eta 0:00:01\r\u001b[K     |████████████████                | 143kB 6.9MB/s eta 0:00:01\r\u001b[K     |█████████████████▎              | 153kB 6.9MB/s eta 0:00:01\r\u001b[K     |██████████████████▍             | 163kB 6.9MB/s eta 0:00:01\r\u001b[K     |███████████████████▋            | 174kB 6.9MB/s eta 0:00:01\r\u001b[K     |████████████████████▊           | 184kB 6.9MB/s eta 0:00:01\r\u001b[K     |█████████████████████▉          | 194kB 6.9MB/s eta 0:00:01\r\u001b[K     |███████████████████████         | 204kB 6.9MB/s eta 0:00:01\r\u001b[K     |████████████████████████▏       | 215kB 6.9MB/s eta 0:00:01\r\u001b[K     |█████████████████████████▎      | 225kB 6.9MB/s eta 0:00:01\r\u001b[K     |██████████████████████████▌     | 235kB 6.9MB/s eta 0:00:01\r\u001b[K     |███████████████████████████▋    | 245kB 6.9MB/s eta 0:00:01\r\u001b[K     |████████████████████████████▊   | 256kB 6.9MB/s eta 0:00:01\r\u001b[K     |██████████████████████████████  | 266kB 6.9MB/s eta 0:00:01\r\u001b[K     |███████████████████████████████ | 276kB 6.9MB/s eta 0:00:01\r\u001b[K     |████████████████████████████████| 286kB 6.9MB/s \n",
            "\u001b[?25hCollecting segtok>=1.5.7\n",
            "  Downloading https://files.pythonhosted.org/packages/41/08/582dab5f4b1d5ca23bc6927b4bb977c8ff7f3a87a3b98844ef833e2f5623/segtok-1.5.10.tar.gz\n",
            "Requirement already satisfied: lxml in /usr/local/lib/python3.7/dist-packages (from flair) (4.2.6)\n",
            "Requirement already satisfied: scikit-learn>=0.21.3 in /usr/local/lib/python3.7/dist-packages (from flair) (0.22.2.post1)\n",
            "Requirement already satisfied: numpy<1.20.0 in /usr/local/lib/python3.7/dist-packages (from flair) (1.19.5)\n",
            "Collecting langdetect\n",
            "\u001b[?25l  Downloading https://files.pythonhosted.org/packages/0e/72/a3add0e4eec4eb9e2569554f7c70f4a3c27712f40e3284d483e88094cc0e/langdetect-1.0.9.tar.gz (981kB)\n",
            "\u001b[K     |████████████████████████████████| 983kB 8.5MB/s \n",
            "\u001b[?25hCollecting huggingface-hub\n",
            "  Downloading https://files.pythonhosted.org/packages/a1/88/7b1e45720ecf59c6c6737ff332f41c955963090a18e72acbcbeac6b25e86/huggingface_hub-0.0.8-py3-none-any.whl\n",
            "Collecting janome\n",
            "\u001b[?25l  Downloading https://files.pythonhosted.org/packages/a8/63/98858cbead27df7536c7e300c169da0999e9704d02220dc6700b804eeff0/Janome-0.4.1-py2.py3-none-any.whl (19.7MB)\n",
            "\u001b[K     |████████████████████████████████| 19.7MB 1.3MB/s \n",
            "\u001b[?25hCollecting deprecated>=1.2.4\n",
            "  Downloading https://files.pythonhosted.org/packages/fb/73/994edfcba74443146c84b91921fcc269374354118d4f452fb0c54c1cbb12/Deprecated-1.2.12-py2.py3-none-any.whl\n",
            "Collecting torch<=1.7.1,>=1.5.0\n",
            "\u001b[?25l  Downloading https://files.pythonhosted.org/packages/90/5d/095ddddc91c8a769a68c791c019c5793f9c4456a688ddd235d6670924ecb/torch-1.7.1-cp37-cp37m-manylinux1_x86_64.whl (776.8MB)\n",
            "\u001b[K     |████████████████████████████████| 776.8MB 22kB/s \n",
            "\u001b[?25hRequirement already satisfied: gensim<=3.8.3,>=3.4.0 in /usr/local/lib/python3.7/dist-packages (from flair) (3.6.0)\n",
            "Collecting sentencepiece==0.1.95\n",
            "\u001b[?25l  Downloading https://files.pythonhosted.org/packages/f5/99/e0808cb947ba10f575839c43e8fafc9cc44e4a7a2c8f79c60db48220a577/sentencepiece-0.1.95-cp37-cp37m-manylinux2014_x86_64.whl (1.2MB)\n",
            "\u001b[K     |████████████████████████████████| 1.2MB 44.2MB/s \n",
            "\u001b[?25hCollecting gdown==3.12.2\n",
            "  Downloading https://files.pythonhosted.org/packages/50/21/92c3cfe56f5c0647145c4b0083d0733dd4890a057eb100a8eeddf949ffe9/gdown-3.12.2.tar.gz\n",
            "  Installing build dependencies ... \u001b[?25l\u001b[?25hdone\n",
            "  Getting requirements to build wheel ... \u001b[?25l\u001b[?25hdone\n",
            "    Preparing wheel metadata ... \u001b[?25l\u001b[?25hdone\n",
            "Requirement already satisfied: python-dateutil>=2.6.1 in /usr/local/lib/python3.7/dist-packages (from flair) (2.8.1)\n",
            "Collecting konoha<5.0.0,>=4.0.0\n",
            "  Downloading https://files.pythonhosted.org/packages/02/be/4dd30d56a0a19619deb9bf41ba8202709fa83b1b301b876572cd6dc38117/konoha-4.6.4-py3-none-any.whl\n",
            "Requirement already satisfied: hyperopt>=0.1.1 in /usr/local/lib/python3.7/dist-packages (from flair) (0.1.2)\n",
            "Requirement already satisfied: regex in /usr/local/lib/python3.7/dist-packages (from flair) (2019.12.20)\n",
            "Requirement already satisfied: tqdm>=4.26.0 in /usr/local/lib/python3.7/dist-packages (from flair) (4.41.1)\n",
            "Collecting transformers>=4.0.0\n",
            "\u001b[?25l  Downloading https://files.pythonhosted.org/packages/d8/b2/57495b5309f09fa501866e225c84532d1fd89536ea62406b2181933fb418/transformers-4.5.1-py3-none-any.whl (2.1MB)\n",
            "\u001b[K     |████████████████████████████████| 2.1MB 47.6MB/s \n",
            "\u001b[?25hRequirement already satisfied: matplotlib>=2.2.3 in /usr/local/lib/python3.7/dist-packages (from flair) (3.2.2)\n",
            "Requirement already satisfied: tabulate in /usr/local/lib/python3.7/dist-packages (from flair) (0.8.9)\n",
            "Collecting ftfy\n",
            "\u001b[?25l  Downloading https://files.pythonhosted.org/packages/ce/b5/5da463f9c7823e0e575e9908d004e2af4b36efa8d02d3d6dad57094fcb11/ftfy-6.0.1.tar.gz (63kB)\n",
            "\u001b[K     |████████████████████████████████| 71kB 4.1MB/s \n",
            "\u001b[?25hCollecting mpld3==0.3\n",
            "\u001b[?25l  Downloading https://files.pythonhosted.org/packages/91/95/a52d3a83d0a29ba0d6898f6727e9858fe7a43f6c2ce81a5fe7e05f0f4912/mpld3-0.3.tar.gz (788kB)\n",
            "\u001b[K     |████████████████████████████████| 798kB 44.4MB/s \n",
            "\u001b[?25hCollecting bpemb>=0.3.2\n",
            "  Downloading https://files.pythonhosted.org/packages/f2/6f/9191b85109772636a8f8accb122900c34db26c091d2793218aa94954524c/bpemb-0.3.3-py3-none-any.whl\n",
            "Collecting sqlitedict>=1.6.0\n",
            "  Downloading https://files.pythonhosted.org/packages/5c/2d/b1d99e9ad157dd7de9cd0d36a8a5876b13b55e4b75f7498bc96035fb4e96/sqlitedict-1.7.0.tar.gz\n",
            "Requirement already satisfied: joblib>=0.11 in /usr/local/lib/python3.7/dist-packages (from scikit-learn>=0.21.3->flair) (1.0.1)\n",
            "Requirement already satisfied: scipy>=0.17.0 in /usr/local/lib/python3.7/dist-packages (from scikit-learn>=0.21.3->flair) (1.4.1)\n",
            "Requirement already satisfied: six in /usr/local/lib/python3.7/dist-packages (from langdetect->flair) (1.15.0)\n",
            "Requirement already satisfied: requests in /usr/local/lib/python3.7/dist-packages (from huggingface-hub->flair) (2.23.0)\n",
            "Requirement already satisfied: importlib-metadata; python_version < \"3.8\" in /usr/local/lib/python3.7/dist-packages (from huggingface-hub->flair) (3.10.1)\n",
            "Requirement already satisfied: filelock in /usr/local/lib/python3.7/dist-packages (from huggingface-hub->flair) (3.0.12)\n",
            "Requirement already satisfied: wrapt<2,>=1.10 in /usr/local/lib/python3.7/dist-packages (from deprecated>=1.2.4->flair) (1.12.1)\n",
            "Requirement already satisfied: typing-extensions in /usr/local/lib/python3.7/dist-packages (from torch<=1.7.1,>=1.5.0->flair) (3.7.4.3)\n",
            "Requirement already satisfied: smart-open>=1.2.1 in /usr/local/lib/python3.7/dist-packages (from gensim<=3.8.3,>=3.4.0->flair) (5.0.0)\n",
            "Collecting overrides<4.0.0,>=3.0.0\n",
            "  Downloading https://files.pythonhosted.org/packages/ff/b1/10f69c00947518e6676bbd43e739733048de64b8dd998e9c2d5a71f44c5d/overrides-3.1.0.tar.gz\n",
            "Requirement already satisfied: pymongo in /usr/local/lib/python3.7/dist-packages (from hyperopt>=0.1.1->flair) (3.11.3)\n",
            "Requirement already satisfied: networkx in /usr/local/lib/python3.7/dist-packages (from hyperopt>=0.1.1->flair) (2.5.1)\n",
            "Requirement already satisfied: future in /usr/local/lib/python3.7/dist-packages (from hyperopt>=0.1.1->flair) (0.16.0)\n",
            "Requirement already satisfied: packaging in /usr/local/lib/python3.7/dist-packages (from transformers>=4.0.0->flair) (20.9)\n",
            "Collecting tokenizers<0.11,>=0.10.1\n",
            "\u001b[?25l  Downloading https://files.pythonhosted.org/packages/ae/04/5b870f26a858552025a62f1649c20d29d2672c02ff3c3fb4c688ca46467a/tokenizers-0.10.2-cp37-cp37m-manylinux2010_x86_64.whl (3.3MB)\n",
            "\u001b[K     |████████████████████████████████| 3.3MB 38.8MB/s \n",
            "\u001b[?25hCollecting sacremoses\n",
            "\u001b[?25l  Downloading https://files.pythonhosted.org/packages/75/ee/67241dc87f266093c533a2d4d3d69438e57d7a90abb216fa076e7d475d4a/sacremoses-0.0.45-py3-none-any.whl (895kB)\n",
            "\u001b[K     |████████████████████████████████| 901kB 43.0MB/s \n",
            "\u001b[?25hRequirement already satisfied: kiwisolver>=1.0.1 in /usr/local/lib/python3.7/dist-packages (from matplotlib>=2.2.3->flair) (1.3.1)\n",
            "Requirement already satisfied: pyparsing!=2.0.4,!=2.1.2,!=2.1.6,>=2.0.1 in /usr/local/lib/python3.7/dist-packages (from matplotlib>=2.2.3->flair) (2.4.7)\n",
            "Requirement already satisfied: cycler>=0.10 in /usr/local/lib/python3.7/dist-packages (from matplotlib>=2.2.3->flair) (0.10.0)\n",
            "Requirement already satisfied: wcwidth in /usr/local/lib/python3.7/dist-packages (from ftfy->flair) (0.2.5)\n",
            "Requirement already satisfied: idna<3,>=2.5 in /usr/local/lib/python3.7/dist-packages (from requests->huggingface-hub->flair) (2.10)\n",
            "Requirement already satisfied: chardet<4,>=3.0.2 in /usr/local/lib/python3.7/dist-packages (from requests->huggingface-hub->flair) (3.0.4)\n",
            "Requirement already satisfied: urllib3!=1.25.0,!=1.25.1,<1.26,>=1.21.1 in /usr/local/lib/python3.7/dist-packages (from requests->huggingface-hub->flair) (1.24.3)\n",
            "Requirement already satisfied: certifi>=2017.4.17 in /usr/local/lib/python3.7/dist-packages (from requests->huggingface-hub->flair) (2020.12.5)\n",
            "Requirement already satisfied: zipp>=0.5 in /usr/local/lib/python3.7/dist-packages (from importlib-metadata; python_version < \"3.8\"->huggingface-hub->flair) (3.4.1)\n",
            "Requirement already satisfied: decorator<5,>=4.3 in /usr/local/lib/python3.7/dist-packages (from networkx->hyperopt>=0.1.1->flair) (4.4.2)\n",
            "Requirement already satisfied: click in /usr/local/lib/python3.7/dist-packages (from sacremoses->transformers>=4.0.0->flair) (7.1.2)\n",
            "Building wheels for collected packages: gdown\n",
            "  Building wheel for gdown (PEP 517) ... \u001b[?25l\u001b[?25hdone\n",
            "  Created wheel for gdown: filename=gdown-3.12.2-cp37-none-any.whl size=9693 sha256=154e5e441c2af83233216a385c2056f18305d486b542105f91d0c78ce4e42624\n",
            "  Stored in directory: /root/.cache/pip/wheels/81/d0/d7/d9983facc6f2775411803e0e2d30ebf98efbf2fc6e57701e09\n",
            "Successfully built gdown\n",
            "Building wheels for collected packages: segtok, langdetect, ftfy, mpld3, sqlitedict, overrides\n",
            "  Building wheel for segtok (setup.py) ... \u001b[?25l\u001b[?25hdone\n",
            "  Created wheel for segtok: filename=segtok-1.5.10-cp37-none-any.whl size=25019 sha256=9ec8991ceacf65b3a2d7e92b5c60cc5707da5d4c8be6688b435c612c83be3079\n",
            "  Stored in directory: /root/.cache/pip/wheels/b4/39/f6/9ca1c5cabde964d728023b5751c3a206a5c8cc40252321fb6b\n",
            "  Building wheel for langdetect (setup.py) ... \u001b[?25l\u001b[?25hdone\n",
            "  Created wheel for langdetect: filename=langdetect-1.0.9-cp37-none-any.whl size=993223 sha256=e8b8db451daa2abbb47e84ff60babdc04fc64aca52c2162810f6d75468634d39\n",
            "  Stored in directory: /root/.cache/pip/wheels/7e/18/13/038c34057808931c7ddc6c92d3aa015cf1a498df5a70268996\n",
            "  Building wheel for ftfy (setup.py) ... \u001b[?25l\u001b[?25hdone\n",
            "  Created wheel for ftfy: filename=ftfy-6.0.1-cp37-none-any.whl size=41573 sha256=427817d18d1dcda37dc57826d20eb590d1bd426d8754f038db9bcf1ed1732a92\n",
            "  Stored in directory: /root/.cache/pip/wheels/ae/73/c7/9056e14b04919e5c262fe80b54133b1a88d73683d05d7ac65c\n",
            "  Building wheel for mpld3 (setup.py) ... \u001b[?25l\u001b[?25hdone\n",
            "  Created wheel for mpld3: filename=mpld3-0.3-cp37-none-any.whl size=116679 sha256=da45084a740c401ba879401adc2c1ea7d1a458f9c2e3b0eb8681cfde3528ec5e\n",
            "  Stored in directory: /root/.cache/pip/wheels/c0/47/fb/8a64f89aecfe0059830479308ad42d62e898a3e3cefdf6ba28\n",
            "  Building wheel for sqlitedict (setup.py) ... \u001b[?25l\u001b[?25hdone\n",
            "  Created wheel for sqlitedict: filename=sqlitedict-1.7.0-cp37-none-any.whl size=14376 sha256=5d4cbb7ecbc28a5ebc07781eac2382ed00200c21a6dc668caaec2213431e8ef3\n",
            "  Stored in directory: /root/.cache/pip/wheels/cf/c6/4f/2c64a43f041415eb8b8740bd80e15e92f0d46c5e464d8e4b9b\n",
            "  Building wheel for overrides (setup.py) ... \u001b[?25l\u001b[?25hdone\n",
            "  Created wheel for overrides: filename=overrides-3.1.0-cp37-none-any.whl size=10174 sha256=bf721536c531a54a47b56c9e12591e06d86a2acc2188593b900bc46a419f89a5\n",
            "  Stored in directory: /root/.cache/pip/wheels/5c/24/13/6ef8600e6f147c95e595f1289a86a3cc82ed65df57582c65a9\n",
            "Successfully built segtok langdetect ftfy mpld3 sqlitedict overrides\n",
            "\u001b[31mERROR: torchvision 0.9.1+cu101 has requirement torch==1.8.1, but you'll have torch 1.7.1 which is incompatible.\u001b[0m\n",
            "\u001b[31mERROR: torchtext 0.9.1 has requirement torch==1.8.1, but you'll have torch 1.7.1 which is incompatible.\u001b[0m\n",
            "\u001b[31mERROR: konoha 4.6.4 has requirement requests<3.0.0,>=2.25.1, but you'll have requests 2.23.0 which is incompatible.\u001b[0m\n",
            "Installing collected packages: segtok, langdetect, huggingface-hub, janome, deprecated, torch, sentencepiece, gdown, overrides, konoha, tokenizers, sacremoses, transformers, ftfy, mpld3, bpemb, sqlitedict, flair\n",
            "  Found existing installation: torch 1.8.1+cu101\n",
            "    Uninstalling torch-1.8.1+cu101:\n",
            "      Successfully uninstalled torch-1.8.1+cu101\n",
            "  Found existing installation: gdown 3.6.4\n",
            "    Uninstalling gdown-3.6.4:\n",
            "      Successfully uninstalled gdown-3.6.4\n",
            "Successfully installed bpemb-0.3.3 deprecated-1.2.12 flair-0.8.0.post1 ftfy-6.0.1 gdown-3.12.2 huggingface-hub-0.0.8 janome-0.4.1 konoha-4.6.4 langdetect-1.0.9 mpld3-0.3 overrides-3.1.0 sacremoses-0.0.45 segtok-1.5.10 sentencepiece-0.1.95 sqlitedict-1.7.0 tokenizers-0.10.2 torch-1.7.1 transformers-4.5.1\n"
          ],
          "name": "stdout"
        }
      ]
    },
    {
      "cell_type": "markdown",
      "metadata": {
        "id": "GnwMyCndEhv2"
      },
      "source": [
        "2. Initialize flair"
      ]
    },
    {
      "cell_type": "code",
      "metadata": {
        "colab": {
          "base_uri": "https://localhost:8080/",
          "height": 271,
          "referenced_widgets": [
            "d72e92e1ad294704ac792eaf66240dd0",
            "20be5734a26948deb592abe65d931518",
            "9fc4923f77e1422989595c90a1bba2a2",
            "180f124225e540329d84c6bce4fa265c",
            "24e67abfb73d4f4898463cf66117e294",
            "902d9e4d7c2c4dabbaa7c3306346027a",
            "b1f14c7108e74f78965a76f13ad2c2df",
            "b286707d4aa24f8ea19b488ba9c78237",
            "3ca5c4990cd841a18683ff31cc3e39ae",
            "75cb4756dddf4357836613531be52b9d",
            "75684bfcbb4040ee9b95ff1d434ada5f",
            "ccf3d9dd9b7d4e4fa3924ebadb5fe8dc",
            "a090cebfd59842e7956a84db441803a3",
            "fe92c5674ad743eab0dbd08d0f7b7875",
            "350dc791e31f47089e3af72c9de5d58d",
            "512693bb2a674800a6bafd7d501cbc02",
            "4fa06790e14848c699be96639120ee68",
            "500f6aa8ebd140be8393c380d9455b27",
            "c7a41098d5194473b25e37c54a770bcd",
            "674f94f232cd41a3a36731030edabc28",
            "cf9a8f1211f84712bd29e2637aee6d96",
            "91fcad79e7b347e3b68c220c4fd422b2",
            "af1a0fbacc504acf9b96b893aed3c9aa",
            "d9a57cf0b1a746ff910fcadbb7619eb0"
          ]
        },
        "id": "FmIPoCKoEDZA",
        "outputId": "3f4ac9fa-79fa-4dd4-d495-764ee7b46f84"
      },
      "source": [
        "import flair\n",
        "sentiment_model = flair.models.TextClassifier.load('en-sentiment')"
      ],
      "execution_count": null,
      "outputs": [
        {
          "output_type": "stream",
          "text": [
            "2021-05-10 00:14:29,254 https://nlp.informatik.hu-berlin.de/resources/models/sentiment-curated-distilbert/sentiment-en-mix-distillbert_4.pt not found in cache, downloading to /tmp/tmpobs9s1yf\n"
          ],
          "name": "stdout"
        },
        {
          "output_type": "stream",
          "text": [
            "100%|██████████| 265512723/265512723 [00:16<00:00, 16219181.40B/s]"
          ],
          "name": "stderr"
        },
        {
          "output_type": "stream",
          "text": [
            "2021-05-10 00:14:46,116 copying /tmp/tmpobs9s1yf to cache at /root/.flair/models/sentiment-en-mix-distillbert_4.pt\n"
          ],
          "name": "stdout"
        },
        {
          "output_type": "stream",
          "text": [
            "\n"
          ],
          "name": "stderr"
        },
        {
          "output_type": "stream",
          "text": [
            "2021-05-10 00:14:46,937 removing temp file /tmp/tmpobs9s1yf\n",
            "2021-05-10 00:14:47,711 loading file /root/.flair/models/sentiment-en-mix-distillbert_4.pt\n"
          ],
          "name": "stdout"
        },
        {
          "output_type": "display_data",
          "data": {
            "application/vnd.jupyter.widget-view+json": {
              "model_id": "d72e92e1ad294704ac792eaf66240dd0",
              "version_minor": 0,
              "version_major": 2
            },
            "text/plain": [
              "HBox(children=(FloatProgress(value=0.0, description='Downloading', max=231508.0, style=ProgressStyle(descripti…"
            ]
          },
          "metadata": {
            "tags": []
          }
        },
        {
          "output_type": "stream",
          "text": [
            "\n"
          ],
          "name": "stdout"
        },
        {
          "output_type": "display_data",
          "data": {
            "application/vnd.jupyter.widget-view+json": {
              "model_id": "3ca5c4990cd841a18683ff31cc3e39ae",
              "version_minor": 0,
              "version_major": 2
            },
            "text/plain": [
              "HBox(children=(FloatProgress(value=0.0, description='Downloading', max=466062.0, style=ProgressStyle(descripti…"
            ]
          },
          "metadata": {
            "tags": []
          }
        },
        {
          "output_type": "stream",
          "text": [
            "\n"
          ],
          "name": "stdout"
        },
        {
          "output_type": "display_data",
          "data": {
            "application/vnd.jupyter.widget-view+json": {
              "model_id": "4fa06790e14848c699be96639120ee68",
              "version_minor": 0,
              "version_major": 2
            },
            "text/plain": [
              "HBox(children=(FloatProgress(value=0.0, description='Downloading', max=28.0, style=ProgressStyle(description_w…"
            ]
          },
          "metadata": {
            "tags": []
          }
        },
        {
          "output_type": "stream",
          "text": [
            "\n"
          ],
          "name": "stdout"
        }
      ]
    },
    {
      "cell_type": "markdown",
      "metadata": {
        "id": "WOQwLqN6PlPk"
      },
      "source": [
        "3. Add another column \"Sentiment\" into the dataframe "
      ]
    },
    {
      "cell_type": "code",
      "metadata": {
        "id": "g1pJW74mPu3F"
      },
      "source": [
        "if stonks_df.__contains__(\"Sentiment\") == False:\n",
        "    stonks_df.insert(len(stonks_df.columns), \"Sentiment\", 0.00)"
      ],
      "execution_count": null,
      "outputs": []
    },
    {
      "cell_type": "markdown",
      "metadata": {
        "id": "gJgIMMftS5Mx"
      },
      "source": [
        "4. Generating sentiment score for the top stocks and store in the data fram"
      ]
    },
    {
      "cell_type": "code",
      "metadata": {
        "id": "8WAzXl5jLKvi"
      },
      "source": [
        "for i in range(10):\n",
        "    neg = 0\n",
        "    pos = 0\n",
        "    slen = 0\n",
        "    for s in stonks_df[\"Content\"][i]:\n",
        "        s = s.strip()\n",
        "        if s == \"\":\n",
        "            slen -= 1\n",
        "            continue\n",
        "\n",
        "        s = flair.data.Sentence(s)\n",
        "        sentiment_model.predict(s)\n",
        "        \n",
        "        score = s.labels[0].score\n",
        "        value = s.labels[0].value\n",
        "        if value == 'POSITIVE':\n",
        "            pos += score\n",
        "        else:  \n",
        "            neg += score\n",
        "        slen +=1\n",
        "    total_score = (pos - neg) / slen\n",
        "    stonks_df.at[i,'Sentiment'] = total_score\n",
        "\n"
      ],
      "execution_count": null,
      "outputs": []
    },
    {
      "cell_type": "code",
      "metadata": {
        "id": "Fi28S9Thf3b_"
      },
      "source": [
        ""
      ],
      "execution_count": null,
      "outputs": []
    },
    {
      "cell_type": "markdown",
      "metadata": {
        "id": "YaYF2_p-f5Ua"
      },
      "source": [
        "Combine the above into methods\n",
        "=========="
      ]
    },
    {
      "cell_type": "code",
      "metadata": {
        "colab": {
          "base_uri": "https://localhost:8080/",
          "height": 271,
          "referenced_widgets": [
            "65c4e8cf7e1c47f5ab04989761d152e7",
            "91498296c7da4303af6e985b2b1bfd2b",
            "115031a5731848dcacf8bd98d00b4e8b",
            "a19028b39003418ead5f355ffd820a4b",
            "fa06b22180684057a7e61b7d2de961ba",
            "0ca17fa56d7a4b13a5ac90b97917260d",
            "6a46bb4e11a047948d518745934db806",
            "31036acfcee8435eb447da069e8d5b27",
            "21ac052f17f0470c9ba8770082cae863",
            "6f799708a4b647f3933a42911b811ae0",
            "19eef5696ce74052926915fde21a21a0",
            "b3b32ef9e1c54780b2df1c387d7ff144",
            "4186097cf62d42e5bbea4a548f323af7",
            "cf53c3e8c91744288d0fa615e6d2849b",
            "d81e5b87a9c8407ba31ce1191411fe0f",
            "3e1cf0c22a5040baa6fea8028a06ade3",
            "710a6b9074cd412294fd727b7750915c",
            "8d1ce38628cf4fb58219ebe35c73247e",
            "7611d5e4531949b9b8f64ef0997b5af9",
            "eeb2ff3ee8fb4f008e7731b8ae907b1b",
            "f75160cd24844eb4808959817d02258b",
            "da36fbacbf704516b1b3deb2ba0cc80f",
            "d5a1c82855de4b87b70fde313eb43d2b",
            "fb16e1ebd45b45ddb6fd0db65aa58313"
          ]
        },
        "id": "LedQ89OT2HY_",
        "outputId": "30bce074-c7bb-4fb7-9b0e-b9a703ed835f"
      },
      "source": [
        "import flair\n",
        "sentiment_model = flair.models.TextClassifier.load('en-sentiment')"
      ],
      "execution_count": null,
      "outputs": [
        {
          "output_type": "stream",
          "text": [
            "2021-05-14 19:44:00,471 https://nlp.informatik.hu-berlin.de/resources/models/sentiment-curated-distilbert/sentiment-en-mix-distillbert_4.pt not found in cache, downloading to /tmp/tmposxqib2i\n"
          ],
          "name": "stdout"
        },
        {
          "output_type": "stream",
          "text": [
            "100%|██████████| 265512723/265512723 [00:09<00:00, 26784779.18B/s]"
          ],
          "name": "stderr"
        },
        {
          "output_type": "stream",
          "text": [
            "2021-05-14 19:44:10,703 copying /tmp/tmposxqib2i to cache at /root/.flair/models/sentiment-en-mix-distillbert_4.pt\n"
          ],
          "name": "stdout"
        },
        {
          "output_type": "stream",
          "text": [
            "\n"
          ],
          "name": "stderr"
        },
        {
          "output_type": "stream",
          "text": [
            "2021-05-14 19:44:11,823 removing temp file /tmp/tmposxqib2i\n",
            "2021-05-14 19:44:13,002 loading file /root/.flair/models/sentiment-en-mix-distillbert_4.pt\n"
          ],
          "name": "stdout"
        },
        {
          "output_type": "display_data",
          "data": {
            "application/vnd.jupyter.widget-view+json": {
              "model_id": "65c4e8cf7e1c47f5ab04989761d152e7",
              "version_minor": 0,
              "version_major": 2
            },
            "text/plain": [
              "HBox(children=(FloatProgress(value=0.0, description='Downloading', max=231508.0, style=ProgressStyle(descripti…"
            ]
          },
          "metadata": {
            "tags": []
          }
        },
        {
          "output_type": "stream",
          "text": [
            "\n"
          ],
          "name": "stdout"
        },
        {
          "output_type": "display_data",
          "data": {
            "application/vnd.jupyter.widget-view+json": {
              "model_id": "21ac052f17f0470c9ba8770082cae863",
              "version_minor": 0,
              "version_major": 2
            },
            "text/plain": [
              "HBox(children=(FloatProgress(value=0.0, description='Downloading', max=466062.0, style=ProgressStyle(descripti…"
            ]
          },
          "metadata": {
            "tags": []
          }
        },
        {
          "output_type": "stream",
          "text": [
            "\n"
          ],
          "name": "stdout"
        },
        {
          "output_type": "display_data",
          "data": {
            "application/vnd.jupyter.widget-view+json": {
              "model_id": "710a6b9074cd412294fd727b7750915c",
              "version_minor": 0,
              "version_major": 2
            },
            "text/plain": [
              "HBox(children=(FloatProgress(value=0.0, description='Downloading', max=28.0, style=ProgressStyle(description_w…"
            ]
          },
          "metadata": {
            "tags": []
          }
        },
        {
          "output_type": "stream",
          "text": [
            "\n"
          ],
          "name": "stdout"
        }
      ]
    },
    {
      "cell_type": "markdown",
      "metadata": {
        "id": "tWTufBRqbfa-"
      },
      "source": [
        "** The method below outputs the top mentioned stock tickers from r/wallstreet, r/stocks, r/investing ** "
      ]
    },
    {
      "cell_type": "code",
      "metadata": {
        "id": "SBy4oZWagK9x"
      },
      "source": [
        "# Input\n",
        "# - ticker_df (a data frame that contains the ticker lists)\n",
        "# - limit (the number of hot posts from each subreddit)\n",
        "# output \n",
        "# - df (data frame that contains the number of times mentioned for each ticker)\n",
        "\n",
        "def topMentionedReddit(ticker_df, limit):\n",
        "    reddit = praw.Reddit(client_id='6pKo4YmL2zkS0Q', \\\n",
        "                     client_secret='kCZTMPNF7Do43YNPbWlWihtbQFG0cg', \\\n",
        "                     user_agent='scraper', \\\n",
        "                     )\n",
        "    wsb_subr = reddit.subreddit('wallstreetbets')\n",
        "    stocks_subr = reddit.subreddit('stocks')\n",
        "    invest_subr = reddit.subreddit('investing')\n",
        "\n",
        "    regex = re.compile('[^a-zA-Z. ]')\n",
        "    whitespace = re.compile(r\"\\s+\")\n",
        "    web_address = re.compile(r\"(?i)http(s):\\/\\/[a-z0-9.~_\\-\\/]+\")\n",
        "\n",
        "    df = []\n",
        "    for post in wsb_subr.hot(limit = limit):\n",
        "        content = {\n",
        "            \"title\": post.title,\n",
        "            \"text\": post.selftext\n",
        "        }\n",
        "        df.append(content)\n",
        "\n",
        "    for post in stocks_subr.hot(limit = limit):\n",
        "        content = {\n",
        "            \"title\": post.title,\n",
        "            \"text\": post.selftext\n",
        "        }\n",
        "        df.append(content)\n",
        "\n",
        "    for post in invest_subr.hot(limit = limit):\n",
        "        content = {\n",
        "            \"title\": post.title,\n",
        "            \"text\": post.selftext\n",
        "        }\n",
        "        df.append(content)\n",
        "\n",
        "    df = pd.DataFrame(df)\n",
        "\n",
        "    regex = re.compile('[^a-zA-Z ]')\n",
        "    word_dict = {}\n",
        "\n",
        "    for (index, row) in df.iterrows():\n",
        "        \n",
        "        # title\n",
        "        title = row['title']\n",
        "        title = regex.sub('',title)\n",
        "        title_words = title.split(' ')\n",
        "\n",
        "        # content \n",
        "        content = row['text']\n",
        "        content = regex.sub('',content)\n",
        "        content_words = content.split(' ')\n",
        "\n",
        "        # combine\n",
        "        words = title_words + content_words\n",
        "        for x in words:\n",
        "            if x in ['A', 'B', 'GO', 'ARE', 'ON']:\n",
        "                pass\n",
        "            elif x in word_dict:\n",
        "                word_dict[x] += 1\n",
        "            else:\n",
        "                word_dict[x] = 1\n",
        "\n",
        "\n",
        "    word_df = pd.DataFrame.from_dict(list(word_dict.items())).rename(columns = {0:\"Term\",1:\"Frequency\"})\n",
        "    #ticker_df = pd.read_csv('/content/drive/MyDrive/Colab Notebooks/CMSC472_2021_Final_Project/tickers.csv').rename(columns = {'Symbol':'Term', 'Name':'Company_Name'})\n",
        "\n",
        "    stonks_df = pd.merge(ticker_df, word_df, on=\"Term\")\n",
        "    stonks_df = stonks_df.sort_values(by = \"Frequency\",ascending=False)\n",
        "\n",
        "    return stonks_df"
      ],
      "execution_count": null,
      "outputs": []
    },
    {
      "cell_type": "markdown",
      "metadata": {
        "id": "9lGP0iMpa_Xt"
      },
      "source": [
        "** The method below looks up a specific stock ticker within the given time frame, scrap the posts that mention the specific stock on the day and analyze the sentiment score for the day **"
      ]
    },
    {
      "cell_type": "code",
      "metadata": {
        "id": "x3eXre3iiAfh"
      },
      "source": [
        "# Input: \n",
        "# - ticker (string)\n",
        "# - begin_date (datetime object)\n",
        "# - end_date(datetime object)\n",
        "# - verbose (Boolean) True for for printing results; false otherwise\n",
        "# output:\n",
        "# - cvs file that contains the date and the sentiment score from the given time frame\n",
        "\n",
        "def redditDailyScore(ticker, begin_date, end_date, verbose):\n",
        "    api = PushshiftAPI()\n",
        "    day_count = (end_date - begin_date).days\n",
        "\n",
        "    regex = re.compile('[^a-zA-Z. ]')\n",
        "    whitespace = re.compile(r\"\\s+\")\n",
        "    web_address = re.compile(r\"(?i)http(s):\\/\\/[a-z0-9.~_\\-\\/]+\")\n",
        "\n",
        "    dateDF = pd.DataFrame();\n",
        "    dateDF.insert(0,'Date',0)\n",
        "    dateDF.insert(1, \"Sentiment\",0)\n",
        "    dateIdx = 0;\n",
        "\n",
        "    for single_date in (begin_date + dt.timedelta(n) for n in range(day_count)):\n",
        "        \n",
        "        try:\n",
        "            after =int(single_date.timestamp())\n",
        "            before = int((single_date +dt.timedelta(1)).timestamp())\n",
        "            gen = api.search_submissions(before = before,\n",
        "                                after = after,\n",
        "                                q = ticker,        \n",
        "                                filter = ['id','author','title','num_comments','selftext'],\n",
        "                                subreddit='wallstreetbets',\n",
        "                                limit=1000)\n",
        "            \n",
        "            gen2 = api.search_submissions(before = before,\n",
        "                                after = after,\n",
        "                                q = ticker,        \n",
        "                                filter = ['id','author','title','num_comments','selftext'],\n",
        "                                subreddit='stocks',\n",
        "                                limit=1000)\n",
        "            \n",
        "            gen3 = api.search_submissions(before = before,\n",
        "                                after = after,\n",
        "                                q = ticker,        \n",
        "                                filter = ['id','author','title','num_comments','selftext'],\n",
        "                                subreddit='investing',\n",
        "                                limit=1000)\n",
        "            \n",
        "            df = pd.DataFrame(gen)\n",
        "            df2 = pd.DataFrame(gen2)\n",
        "            df3 = pd.DataFrame(gen3)\n",
        "\n",
        "            content = []\n",
        "            \n",
        "\n",
        "            for (index, row) in df.iterrows():\n",
        "            \n",
        "                # title\n",
        "                title = row['title']\n",
        "                title = regex.sub(' ',title)\n",
        "                title = whitespace.sub(' ', title)\n",
        "                title_sentence = title.split('.')\n",
        "\n",
        "                # body\n",
        "                body = row['selftext']\n",
        "                body = web_address.sub(' ', body)\n",
        "                body = regex.sub(' ',body)\n",
        "                body = whitespace.sub(' ', body)\n",
        "                body_sentence = body.split('.')\n",
        "\n",
        "                # combine\n",
        "                sentence = title_sentence + body_sentence\n",
        "                content = np.append(sentence,content)\n",
        "            \n",
        "            for (index, row) in df2.iterrows():\n",
        "            \n",
        "                # title\n",
        "                title = row['title']\n",
        "                title = regex.sub(' ',title)\n",
        "                title = whitespace.sub(' ', title)\n",
        "                title_sentence = title.split('.')\n",
        "\n",
        "                # body\n",
        "                body = row['selftext']\n",
        "                body = web_address.sub(' ', body)\n",
        "                body = regex.sub(' ',body)\n",
        "                body = whitespace.sub(' ', body)\n",
        "                body_sentence = body.split('.')\n",
        "\n",
        "                # combine\n",
        "                sentence = title_sentence + body_sentence\n",
        "                content = np.append(sentence,content)\n",
        "            \n",
        "            for (index, row) in df3.iterrows():\n",
        "            \n",
        "                # title\n",
        "                title = row['title']\n",
        "                title = regex.sub(' ',title)\n",
        "                title = whitespace.sub(' ', title)\n",
        "                title_sentence = title.split('.')\n",
        "\n",
        "                # body\n",
        "                body = row['selftext']\n",
        "                body = web_address.sub(' ', body)\n",
        "                body = regex.sub(' ',body)\n",
        "                body = whitespace.sub(' ', body)\n",
        "                body_sentence = body.split('.')\n",
        "\n",
        "                # combine\n",
        "                sentence = title_sentence + body_sentence\n",
        "                content = np.append(sentence,content)\n",
        "          \n",
        "\n",
        "            neg = 0\n",
        "            pos = 0\n",
        "            slen = 0\n",
        "            for s in content:\n",
        "                if s == \"\":\n",
        "                    continue\n",
        "\n",
        "                if s == \" \":\n",
        "                    continue\n",
        "\n",
        "                s = flair.data.Sentence(s)\n",
        "                sentiment_model.predict(s)\n",
        "                \n",
        "                score = s.labels[0].score\n",
        "                value = s.labels[0].value\n",
        "                if value == 'POSITIVE':\n",
        "                    pos += score\n",
        "                else:  \n",
        "                    neg += score\n",
        "                slen +=1\n",
        "\n",
        "            if slen == 0:\n",
        "                total_score = 0\n",
        "            else: \n",
        "                total_score = (pos - neg) / slen\n",
        "            \n",
        "          \n",
        "\n",
        "            dateDF.at[dateIdx,'Date'] = single_date\n",
        "            dateDF.at[dateIdx, 'Sentiment'] = total_score\n",
        "            dateIdx += 1\n",
        "\n",
        "            if verbose:\n",
        "                s = str(single_date) + ' ' + str(total_score)\n",
        "                print(s) \n",
        "        \n",
        "        except:\n",
        "            dateDF.at[dateIdx,'Date'] = single_date\n",
        "            dateDF.at[dateIdx, 'Sentiment'] = 0\n",
        "            dateIdx += 1\n",
        "            if verbose:\n",
        "                s = str(single_date) + ' ' + \"Non-String\"\n",
        "                print(s)\n",
        "            \n",
        "            continue\n",
        "\n",
        "    return dateDF\n",
        "\n",
        "\n",
        "\n",
        "            \n",
        "            \n",
        "        \n"
      ],
      "execution_count": null,
      "outputs": []
    },
    {
      "cell_type": "markdown",
      "metadata": {
        "id": "vq3ciXsXcNYI"
      },
      "source": [
        "Use topMentionReddit to generate the top 10 tickers\n",
        "==========\n",
        "\n"
      ]
    },
    {
      "cell_type": "code",
      "metadata": {
        "id": "RLiumGIs6VcA"
      },
      "source": [
        "ticker_df = pd.read_csv('/content/drive/MyDrive/Colab Notebooks/CMSC472_2021_Final_Project/tickers.csv').rename(columns = {'Symbol':'Term', 'Name':'Company_Name'})\n",
        "stonks_df = topMentionedReddit(ticker_df,500)"
      ],
      "execution_count": null,
      "outputs": []
    },
    {
      "cell_type": "code",
      "metadata": {
        "colab": {
          "base_uri": "https://localhost:8080/"
        },
        "id": "exGYzXjA7xd1",
        "outputId": "a1e16ca2-9d8f-40a9-f478-40cb201cec5b"
      },
      "source": [
        "company = stonks_df['Term']\n",
        "idx = 0;\n",
        "chosen_comp = [];\n",
        "for t in stonks_df['Term']:\n",
        "    chosen_comp.append(t)\n",
        "\n",
        "chosen_comp = chosen_comp[0:10]\n",
        "chosen_comp\n"
      ],
      "execution_count": null,
      "outputs": [
        {
          "output_type": "execute_result",
          "data": {
            "text/plain": [
              "['M', 'DD', 'SP', 'K', 'UWMC', 'FOR', 'G', 'PLTR', 'INO', 'TSLA']"
            ]
          },
          "metadata": {
            "tags": []
          },
          "execution_count": 13
        }
      ]
    },
    {
      "cell_type": "markdown",
      "metadata": {
        "id": "sfMVkYH9csEB"
      },
      "source": [
        "Use redditDailyScore to generate csv files that contains the sentiment score from 2019 to 2021\n",
        "=========="
      ]
    },
    {
      "cell_type": "code",
      "metadata": {
        "id": "gCtbnIKdp4XL"
      },
      "source": [
        "resultDF = redditDailyScore('M', dt.datetime(2019,1,1,0,0), dt.datetime(2020,1,1,0,0),True)\n",
        "resultDF.to_csv(\"M_2019.csv\") #done"
      ],
      "execution_count": null,
      "outputs": []
    },
    {
      "cell_type": "code",
      "metadata": {
        "id": "CUUzi9Ahrf8h"
      },
      "source": [
        "resultDF2 = redditDailyScore('DD', dt.datetime(2019,1,1,0,0), dt.datetime(2019,10,1,0,0),True)\n",
        "resultDF2.to_csv(\"DD_2019_1.csv\") #done"
      ],
      "execution_count": null,
      "outputs": []
    },
    {
      "cell_type": "code",
      "metadata": {
        "id": "eGHvUt3M1CnE"
      },
      "source": [
        "resultDF2_2 = redditDailyScore('DD', dt.datetime(2019,10,2,0,0), dt.datetime(2020,1,1,0,0),True)\n",
        "resultDF2_2.to_csv(\"DD_2019_2.csv\") #done"
      ],
      "execution_count": null,
      "outputs": []
    },
    {
      "cell_type": "code",
      "metadata": {
        "id": "IN98CVQX5zDY"
      },
      "source": [
        "resultDF3 = redditDailyScore(\"K\",dt.datetime(2019,1,1,0,0), dt.datetime(2020,1,1,0,0),True)\n",
        "resultDF3.to_csv(\"K_2019.csv\")#done"
      ],
      "execution_count": null,
      "outputs": []
    },
    {
      "cell_type": "code",
      "metadata": {
        "id": "zlmlIQepHdkX"
      },
      "source": [
        "resultDF_SP = redditDailyScore('SP', dt.datetime(2019,1,1,0,0), dt.datetime(2020,1,1,0,0),True)\n",
        "resultDF_SP.to_csv(\"SP_2019.csv\")#done"
      ],
      "execution_count": null,
      "outputs": []
    },
    {
      "cell_type": "code",
      "metadata": {
        "id": "-SsWaVF-PFJb"
      },
      "source": [
        "resultDF_SP = redditDailyScore('UWMC', dt.datetime(2019,1,1,0,0), dt.datetime(2020,1,1,0,0),True)\n",
        "resultDF_SP.to_csv(\"UWMC_2019.csv\")#done"
      ],
      "execution_count": null,
      "outputs": []
    },
    {
      "cell_type": "code",
      "metadata": {
        "id": "2owRWWebUwF2"
      },
      "source": [
        "resultDF_SP1 = redditDailyScore('FOR', dt.datetime(2019,1,1,0,0), dt.datetime(2019,5,6,0,0),True)\n",
        "resultDF_SP1.to_csv(\"FOR_2019_1 .csv\")#done"
      ],
      "execution_count": null,
      "outputs": []
    },
    {
      "cell_type": "code",
      "metadata": {
        "id": "-BW6ydVuoH_h"
      },
      "source": [
        "resultDF_SP1.to_csv(\"FOR_2019_1 .csv\")#done"
      ],
      "execution_count": null,
      "outputs": []
    },
    {
      "cell_type": "code",
      "metadata": {
        "id": "pmhDgmZdm7oW"
      },
      "source": [
        "resultDF_FOR2 = redditDailyScore('FOR', dt.datetime(2019,5,8,0,0), dt.datetime(2019,7,2,0,0),True)\n",
        "resultDF_FOR2.to_csv(\"FOR_2019_2 .csv\")#done"
      ],
      "execution_count": null,
      "outputs": []
    },
    {
      "cell_type": "code",
      "metadata": {
        "id": "sVvTY9ovvk4V"
      },
      "source": [
        "resultDF_FOR3 = redditDailyScore('FOR', dt.datetime(2019,7,2,0,0), dt.datetime(2020,1,1,0,0),True)\n",
        "resultDF_FOR3.to_csv(\"FOR_2019_3 .csv\")#done"
      ],
      "execution_count": null,
      "outputs": []
    },
    {
      "cell_type": "code",
      "metadata": {
        "id": "3GpnKPlr2HRM"
      },
      "source": [
        "resultDF_G = redditDailyScore('G', dt.datetime(2019,1,1,0,0), dt.datetime(2020,1,1,0,0),True)\n",
        "resultDF_G.to_csv(\"G_2019.csv\")#done"
      ],
      "execution_count": null,
      "outputs": []
    },
    {
      "cell_type": "code",
      "metadata": {
        "id": "4YFF4PdX1wpP"
      },
      "source": [
        "resultDF_PLTR = redditDailyScore('PLTR', dt.datetime(2019,1,1,0,0), dt.datetime(2020,1,1,0,0),True)\n",
        "resultDF_PLTR.to_csv(\"PLTR_2019.csv\")#done"
      ],
      "execution_count": null,
      "outputs": []
    },
    {
      "cell_type": "code",
      "metadata": {
        "id": "PQfBh1kG1_u4"
      },
      "source": [
        "resultDF_TSLA = redditDailyScore('TSLA', dt.datetime(2019,1,1,0,0), dt.datetime(2020,1,1,0,0),True)\n",
        "resultDF_TSLA.to_csv(\"TSLA_2019.csv\")#done"
      ],
      "execution_count": null,
      "outputs": []
    },
    {
      "cell_type": "code",
      "metadata": {
        "id": "b3MQf48V--7j"
      },
      "source": [
        "resultDF_SP500= redditDailyScore('SP500', dt.datetime(2019,1,1,0,0), dt.datetime(2020,1,1,0,0),True)\n",
        "resultDF_SP500.to_csv(\"SP500_2019.csv\")#done"
      ],
      "execution_count": null,
      "outputs": []
    },
    {
      "cell_type": "code",
      "metadata": {
        "id": "Qg0ozE55tfa9"
      },
      "source": [
        "resultDF_M_1 = redditDailyScore('M', dt.datetime(2020,1,1,0,0), dt.datetime(2020,3,16,0,0),True)\n",
        "resultDF_M_1.to_csv(\"M_2020_1.csv\") #done #3/16 not array like object?"
      ],
      "execution_count": null,
      "outputs": []
    },
    {
      "cell_type": "code",
      "metadata": {
        "id": "t5oJQM8WCZKX"
      },
      "source": [
        "resultDF_M_2 = redditDailyScore('M', dt.datetime(2020,3,17,0,0), dt.datetime(2021,1,1,0,0),True)\n",
        "resultDF_M_2.to_csv(\"M_2020_2.csv\") #done #3/16 not array like object?"
      ],
      "execution_count": null,
      "outputs": []
    },
    {
      "cell_type": "code",
      "metadata": {
        "id": "T-Sm7geROAO0"
      },
      "source": [
        "resultDF_DD = redditDailyScore('DD', dt.datetime(2020,1,1,0,0), dt.datetime(2021,1,1,0,0),True)\n",
        "resultDF_DD.to_csv(\"DD_2020.csv\") #done"
      ],
      "execution_count": null,
      "outputs": []
    },
    {
      "cell_type": "code",
      "metadata": {
        "id": "KsIoRH62XvJX"
      },
      "source": [
        "resultDF_SP = redditDailyScore('SP', dt.datetime(2020,1,1,0,0), dt.datetime(2021,1,1,0,0),True)\n",
        "resultDF_SP.to_csv(\"SP_2020.csv\") #done"
      ],
      "execution_count": null,
      "outputs": []
    },
    {
      "cell_type": "code",
      "metadata": {
        "id": "UI-Sh_a5eIzp"
      },
      "source": [
        "resultDF_K = redditDailyScore('K', dt.datetime(2020,1,1,0,0), dt.datetime(2021,1,1,0,0),True)\n",
        "resultDF_K.to_csv(\"K_2020.csv\") #done"
      ],
      "execution_count": null,
      "outputs": []
    },
    {
      "cell_type": "code",
      "metadata": {
        "id": "km0Hag343cVz"
      },
      "source": [
        "resultDF_FOR = redditDailyScore('FOR', dt.datetime(2020,1,1,0,0), dt.datetime(2021,1,1,0,0),True)\n",
        "resultDF_FOR.to_csv(\"FOR_2020.csv\") #done"
      ],
      "execution_count": null,
      "outputs": []
    },
    {
      "cell_type": "code",
      "metadata": {
        "id": "RKv1uUcJUktx"
      },
      "source": [
        "resultDF_G = redditDailyScore('G', dt.datetime(2020,1,1,0,0), dt.datetime(2021,1,1,0,0),True)\n",
        "resultDF_G.to_csv(\"G_2020.csv\") #done"
      ],
      "execution_count": null,
      "outputs": []
    },
    {
      "cell_type": "code",
      "metadata": {
        "id": "CK1R0zeEa5Jp"
      },
      "source": [
        "resultDF_TSLA = redditDailyScore('TSLA', dt.datetime(2020,1,1,0,0), dt.datetime(2021,1,1,0,0),True)\n",
        "resultDF_TSLA.to_csv(\"TSLA_2020.csv\") #done"
      ],
      "execution_count": null,
      "outputs": []
    },
    {
      "cell_type": "code",
      "metadata": {
        "id": "g3kufefze55c"
      },
      "source": [
        "resultDF_SP500= redditDailyScore('SP500', dt.datetime(2020,1,1,0,0), dt.datetime(2021,1,1,0,0),True)\n",
        "resultDF_SP500.to_csv(\"SP500_2019.csv\")#done"
      ],
      "execution_count": null,
      "outputs": []
    }
  ]
}